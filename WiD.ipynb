{
 "cells": [
  {
   "cell_type": "markdown",
   "metadata": {},
   "source": [
    "## AutoInland Vehicle Insurance Claim"
   ]
  },
  {
   "cell_type": "markdown",
   "metadata": {},
   "source": [
    "### Data Description\n",
    "The data describes ~ 12,000 policies sold by AutoInland for car insurance. Information on the car type, make, customer age and start of policy are in the data."
   ]
  },
  {
   "cell_type": "markdown",
   "metadata": {},
   "source": [
    "### Objective\n",
    "The objective of this hackathon is to develop a predictive model that determines if a customer will submit a vehicle insurance claim in the next three months. This solution will help streamline financial planning at AutoInland and allow them to better serve their customers by understanding which customers are likely to submit a claim.\n"
   ]
  },
  {
   "cell_type": "markdown",
   "metadata": {},
   "source": [
    "### Metric for Success\n",
    "1. Come up with a model that will be used to predict whether a customer will submit a vehicle insurance claim in the next 3 months.\n",
    "2. Test the model using the confusion matrix and the accuracy test.\n",
    "3. Predict the customers who will submit a vehicle insurance claim using the provided test dataset."
   ]
  },
  {
   "cell_type": "markdown",
   "metadata": {},
   "source": [
    "### Experimental Design\n",
    "Import necessary libraries\n",
    "\n",
    "Import dataset\n",
    "\n",
    "Exploring data\n",
    "\n",
    "Data cleaning\n",
    "\n",
    "1. Formatting Data Types\n",
    "2. Checking & handling missing values\n",
    "3. Checking for duplicates\n",
    "4. Checking for outliers\n",
    "\n",
    "EDA\n",
    "\n",
    "1. Checking the distribution of the features\n",
    "2. Multivariate analysis - Correlation\n",
    "\n",
    "\n",
    "Modelling\n",
    "\n",
    "1. Logistic Regression\n",
    "2. Support Vector Machine(SVM) \n",
    "3. Decision Tree Classifier\n",
    "4. K-Nearest Neighbour\n",
    "5. Random Forest Classifier\n",
    "\n",
    "Validating the model\n",
    "\n",
    "By fitting the most accurate model into our cleaned test data.\n"
   ]
  },
  {
   "cell_type": "markdown",
   "metadata": {},
   "source": [
    "### Importing the necessary libraries & Loading the data"
   ]
  },
  {
   "cell_type": "code",
   "execution_count": 2,
   "metadata": {},
   "outputs": [],
   "source": [
    "import numpy as np\n",
    "import pandas as pd\n",
    "import matplotlib.pyplot as plt\n",
    "import seaborn as sns\n",
    "from sklearn.model_selection import train_test_split\n"
   ]
  },
  {
   "cell_type": "code",
   "execution_count": 3,
   "metadata": {},
   "outputs": [
    {
     "data": {
      "text/html": [
       "<div>\n",
       "<style scoped>\n",
       "    .dataframe tbody tr th:only-of-type {\n",
       "        vertical-align: middle;\n",
       "    }\n",
       "\n",
       "    .dataframe tbody tr th {\n",
       "        vertical-align: top;\n",
       "    }\n",
       "\n",
       "    .dataframe thead th {\n",
       "        text-align: right;\n",
       "    }\n",
       "</style>\n",
       "<table border=\"1\" class=\"dataframe\">\n",
       "  <thead>\n",
       "    <tr style=\"text-align: right;\">\n",
       "      <th></th>\n",
       "      <th>ID</th>\n",
       "      <th>Policy Start Date</th>\n",
       "      <th>Policy End Date</th>\n",
       "      <th>Gender</th>\n",
       "      <th>Age</th>\n",
       "      <th>First Transaction Date</th>\n",
       "      <th>No_Pol</th>\n",
       "      <th>Car_Category</th>\n",
       "      <th>Subject_Car_Colour</th>\n",
       "      <th>Subject_Car_Make</th>\n",
       "      <th>LGA_Name</th>\n",
       "      <th>State</th>\n",
       "      <th>ProductName</th>\n",
       "      <th>target</th>\n",
       "    </tr>\n",
       "  </thead>\n",
       "  <tbody>\n",
       "    <tr>\n",
       "      <th>0</th>\n",
       "      <td>ID_0040R73</td>\n",
       "      <td>2010-05-14</td>\n",
       "      <td>2011-05-13</td>\n",
       "      <td>Male</td>\n",
       "      <td>30</td>\n",
       "      <td>2010-05-14</td>\n",
       "      <td>1</td>\n",
       "      <td>Saloon</td>\n",
       "      <td>Black</td>\n",
       "      <td>TOYOTA</td>\n",
       "      <td>NaN</td>\n",
       "      <td>NaN</td>\n",
       "      <td>Car Classic</td>\n",
       "      <td>0</td>\n",
       "    </tr>\n",
       "    <tr>\n",
       "      <th>1</th>\n",
       "      <td>ID_0046BNK</td>\n",
       "      <td>2010-11-29</td>\n",
       "      <td>2011-11-28</td>\n",
       "      <td>Female</td>\n",
       "      <td>79</td>\n",
       "      <td>2010-11-29</td>\n",
       "      <td>1</td>\n",
       "      <td>JEEP</td>\n",
       "      <td>Grey</td>\n",
       "      <td>TOYOTA</td>\n",
       "      <td>NaN</td>\n",
       "      <td>NaN</td>\n",
       "      <td>Car Classic</td>\n",
       "      <td>1</td>\n",
       "    </tr>\n",
       "    <tr>\n",
       "      <th>2</th>\n",
       "      <td>ID_005QMC3</td>\n",
       "      <td>2010-03-21</td>\n",
       "      <td>2011-03-20</td>\n",
       "      <td>Male</td>\n",
       "      <td>43</td>\n",
       "      <td>2010-03-21</td>\n",
       "      <td>1</td>\n",
       "      <td>Saloon</td>\n",
       "      <td>Red</td>\n",
       "      <td>TOYOTA</td>\n",
       "      <td>NaN</td>\n",
       "      <td>NaN</td>\n",
       "      <td>Car Classic</td>\n",
       "      <td>0</td>\n",
       "    </tr>\n",
       "    <tr>\n",
       "      <th>3</th>\n",
       "      <td>ID_0079OHW</td>\n",
       "      <td>2010-08-21</td>\n",
       "      <td>2011-08-20</td>\n",
       "      <td>Male</td>\n",
       "      <td>2</td>\n",
       "      <td>2010-08-21</td>\n",
       "      <td>1</td>\n",
       "      <td>NaN</td>\n",
       "      <td>NaN</td>\n",
       "      <td>NaN</td>\n",
       "      <td>NaN</td>\n",
       "      <td>NaN</td>\n",
       "      <td>CarSafe</td>\n",
       "      <td>0</td>\n",
       "    </tr>\n",
       "    <tr>\n",
       "      <th>4</th>\n",
       "      <td>ID_00BRP63</td>\n",
       "      <td>2010-08-29</td>\n",
       "      <td>2010-12-31</td>\n",
       "      <td>Entity</td>\n",
       "      <td>20</td>\n",
       "      <td>2010-08-29</td>\n",
       "      <td>3</td>\n",
       "      <td>NaN</td>\n",
       "      <td>NaN</td>\n",
       "      <td>NaN</td>\n",
       "      <td>Lagos</td>\n",
       "      <td>Lagos</td>\n",
       "      <td>Muuve</td>\n",
       "      <td>1</td>\n",
       "    </tr>\n",
       "  </tbody>\n",
       "</table>\n",
       "</div>"
      ],
      "text/plain": [
       "           ID Policy Start Date Policy End Date  Gender  Age  \\\n",
       "0  ID_0040R73        2010-05-14      2011-05-13    Male   30   \n",
       "1  ID_0046BNK        2010-11-29      2011-11-28  Female   79   \n",
       "2  ID_005QMC3        2010-03-21      2011-03-20    Male   43   \n",
       "3  ID_0079OHW        2010-08-21      2011-08-20    Male    2   \n",
       "4  ID_00BRP63        2010-08-29      2010-12-31  Entity   20   \n",
       "\n",
       "  First Transaction Date  No_Pol Car_Category Subject_Car_Colour  \\\n",
       "0             2010-05-14       1       Saloon              Black   \n",
       "1             2010-11-29       1         JEEP               Grey   \n",
       "2             2010-03-21       1       Saloon                Red   \n",
       "3             2010-08-21       1          NaN                NaN   \n",
       "4             2010-08-29       3          NaN                NaN   \n",
       "\n",
       "  Subject_Car_Make LGA_Name  State  ProductName  target  \n",
       "0           TOYOTA      NaN    NaN  Car Classic       0  \n",
       "1           TOYOTA      NaN    NaN  Car Classic       1  \n",
       "2           TOYOTA      NaN    NaN  Car Classic       0  \n",
       "3              NaN      NaN    NaN      CarSafe       0  \n",
       "4              NaN    Lagos  Lagos        Muuve       1  "
      ]
     },
     "execution_count": 3,
     "metadata": {},
     "output_type": "execute_result"
    }
   ],
   "source": [
    "## Loading the train data\n",
    "df = pd.read_csv(\"C:\\\\Users\\\\Wangari Kimani\\\\Documents\\\\MSc DSA\\\\FCC\\\\PRACTICE\\\\WiD Datathon\\\\abc\\\\Train.csv\")\n",
    "df.head()"
   ]
  },
  {
   "cell_type": "markdown",
   "metadata": {},
   "source": [
    "### Exploring & Cleaning the Data"
   ]
  },
  {
   "cell_type": "markdown",
   "metadata": {},
   "source": [
    "### Task 1. Exploring the data"
   ]
  },
  {
   "cell_type": "code",
   "execution_count": 4,
   "metadata": {},
   "outputs": [
    {
     "data": {
      "text/html": [
       "<div>\n",
       "<style scoped>\n",
       "    .dataframe tbody tr th:only-of-type {\n",
       "        vertical-align: middle;\n",
       "    }\n",
       "\n",
       "    .dataframe tbody tr th {\n",
       "        vertical-align: top;\n",
       "    }\n",
       "\n",
       "    .dataframe thead th {\n",
       "        text-align: right;\n",
       "    }\n",
       "</style>\n",
       "<table border=\"1\" class=\"dataframe\">\n",
       "  <thead>\n",
       "    <tr style=\"text-align: right;\">\n",
       "      <th></th>\n",
       "      <th>ID</th>\n",
       "      <th>Policy Start Date</th>\n",
       "      <th>Policy End Date</th>\n",
       "      <th>Gender</th>\n",
       "      <th>Age</th>\n",
       "      <th>First Transaction Date</th>\n",
       "      <th>No_Pol</th>\n",
       "      <th>Car_Category</th>\n",
       "      <th>Subject_Car_Colour</th>\n",
       "      <th>Subject_Car_Make</th>\n",
       "      <th>LGA_Name</th>\n",
       "      <th>State</th>\n",
       "      <th>ProductName</th>\n",
       "      <th>target</th>\n",
       "    </tr>\n",
       "  </thead>\n",
       "  <tbody>\n",
       "    <tr>\n",
       "      <th>12069</th>\n",
       "      <td>ID_ZYMVRIU</td>\n",
       "      <td>2010-05-23</td>\n",
       "      <td>2011-05-22</td>\n",
       "      <td>Male</td>\n",
       "      <td>58</td>\n",
       "      <td>2010-05-23</td>\n",
       "      <td>1</td>\n",
       "      <td>Saloon</td>\n",
       "      <td>Black</td>\n",
       "      <td>TOYOTA</td>\n",
       "      <td>NaN</td>\n",
       "      <td>NaN</td>\n",
       "      <td>Car Classic</td>\n",
       "      <td>0</td>\n",
       "    </tr>\n",
       "    <tr>\n",
       "      <th>12070</th>\n",
       "      <td>ID_ZYYEGH8</td>\n",
       "      <td>2010-07-10</td>\n",
       "      <td>2011-04-20</td>\n",
       "      <td>Male</td>\n",
       "      <td>38</td>\n",
       "      <td>2010-07-10</td>\n",
       "      <td>2</td>\n",
       "      <td>Saloon</td>\n",
       "      <td>NaN</td>\n",
       "      <td>TOYOTA</td>\n",
       "      <td>NaN</td>\n",
       "      <td>NaN</td>\n",
       "      <td>Car Classic</td>\n",
       "      <td>1</td>\n",
       "    </tr>\n",
       "    <tr>\n",
       "      <th>12071</th>\n",
       "      <td>ID_ZZ0TC4R</td>\n",
       "      <td>2010-04-09</td>\n",
       "      <td>2011-04-08</td>\n",
       "      <td>Male</td>\n",
       "      <td>70</td>\n",
       "      <td>2010-04-09</td>\n",
       "      <td>3</td>\n",
       "      <td>Saloon</td>\n",
       "      <td>NaN</td>\n",
       "      <td>Kia</td>\n",
       "      <td>Port-Harcourt</td>\n",
       "      <td>Port-Harcourt</td>\n",
       "      <td>Car Classic</td>\n",
       "      <td>0</td>\n",
       "    </tr>\n",
       "    <tr>\n",
       "      <th>12072</th>\n",
       "      <td>ID_ZZ2U7VF</td>\n",
       "      <td>2010-09-16</td>\n",
       "      <td>2011-09-15</td>\n",
       "      <td>Male</td>\n",
       "      <td>38</td>\n",
       "      <td>2010-09-16</td>\n",
       "      <td>1</td>\n",
       "      <td>NaN</td>\n",
       "      <td>NaN</td>\n",
       "      <td>NaN</td>\n",
       "      <td>Obia/Akpor</td>\n",
       "      <td>Obia-Akpor</td>\n",
       "      <td>Car Classic</td>\n",
       "      <td>0</td>\n",
       "    </tr>\n",
       "    <tr>\n",
       "      <th>12073</th>\n",
       "      <td>ID_ZZ5JOXU</td>\n",
       "      <td>2010-08-08</td>\n",
       "      <td>2011-08-07</td>\n",
       "      <td>Female</td>\n",
       "      <td>31</td>\n",
       "      <td>2010-08-08</td>\n",
       "      <td>1</td>\n",
       "      <td>Saloon</td>\n",
       "      <td>Cream</td>\n",
       "      <td>Hyundai</td>\n",
       "      <td>Lagos Island</td>\n",
       "      <td>Lagos</td>\n",
       "      <td>Car Classic</td>\n",
       "      <td>0</td>\n",
       "    </tr>\n",
       "    <tr>\n",
       "      <th>12074</th>\n",
       "      <td>ID_ZZA1SES</td>\n",
       "      <td>2010-05-25</td>\n",
       "      <td>2011-05-24</td>\n",
       "      <td>Female</td>\n",
       "      <td>30</td>\n",
       "      <td>2010-05-25</td>\n",
       "      <td>1</td>\n",
       "      <td>NaN</td>\n",
       "      <td>Black</td>\n",
       "      <td>Range Rover</td>\n",
       "      <td>Ibeju/Lekki</td>\n",
       "      <td>Ibeju-Lekki</td>\n",
       "      <td>Car Classic</td>\n",
       "      <td>1</td>\n",
       "    </tr>\n",
       "    <tr>\n",
       "      <th>12075</th>\n",
       "      <td>ID_ZZDAC3K</td>\n",
       "      <td>2010-10-03</td>\n",
       "      <td>2011-10-02</td>\n",
       "      <td>Female</td>\n",
       "      <td>59</td>\n",
       "      <td>2010-10-03</td>\n",
       "      <td>1</td>\n",
       "      <td>NaN</td>\n",
       "      <td>NaN</td>\n",
       "      <td>NaN</td>\n",
       "      <td>NaN</td>\n",
       "      <td>NaN</td>\n",
       "      <td>Car Classic</td>\n",
       "      <td>0</td>\n",
       "    </tr>\n",
       "    <tr>\n",
       "      <th>12076</th>\n",
       "      <td>ID_ZZIU2XC</td>\n",
       "      <td>2010-10-10</td>\n",
       "      <td>2011-10-08</td>\n",
       "      <td>Male</td>\n",
       "      <td>34</td>\n",
       "      <td>2010-10-10</td>\n",
       "      <td>1</td>\n",
       "      <td>NaN</td>\n",
       "      <td>NaN</td>\n",
       "      <td>NaN</td>\n",
       "      <td>NaN</td>\n",
       "      <td>NaN</td>\n",
       "      <td>CarSafe</td>\n",
       "      <td>0</td>\n",
       "    </tr>\n",
       "    <tr>\n",
       "      <th>12077</th>\n",
       "      <td>ID_ZZRQ1NF</td>\n",
       "      <td>2010-02-27</td>\n",
       "      <td>2011-02-26</td>\n",
       "      <td>NaN</td>\n",
       "      <td>120</td>\n",
       "      <td>2010-02-27</td>\n",
       "      <td>2</td>\n",
       "      <td>NaN</td>\n",
       "      <td>White</td>\n",
       "      <td>TOYOTA</td>\n",
       "      <td>Victoria Island</td>\n",
       "      <td>Lagos</td>\n",
       "      <td>CVTP</td>\n",
       "      <td>0</td>\n",
       "    </tr>\n",
       "    <tr>\n",
       "      <th>12078</th>\n",
       "      <td>ID_ZZWRIIE</td>\n",
       "      <td>2010-07-01</td>\n",
       "      <td>2011-06-30</td>\n",
       "      <td>Female</td>\n",
       "      <td>46</td>\n",
       "      <td>2010-07-01</td>\n",
       "      <td>2</td>\n",
       "      <td>JEEP</td>\n",
       "      <td>Black</td>\n",
       "      <td>Land Rover</td>\n",
       "      <td>Lagos Island</td>\n",
       "      <td>Lagos</td>\n",
       "      <td>Car Classic</td>\n",
       "      <td>0</td>\n",
       "    </tr>\n",
       "  </tbody>\n",
       "</table>\n",
       "</div>"
      ],
      "text/plain": [
       "               ID Policy Start Date Policy End Date  Gender  Age  \\\n",
       "12069  ID_ZYMVRIU        2010-05-23      2011-05-22    Male   58   \n",
       "12070  ID_ZYYEGH8        2010-07-10      2011-04-20    Male   38   \n",
       "12071  ID_ZZ0TC4R        2010-04-09      2011-04-08    Male   70   \n",
       "12072  ID_ZZ2U7VF        2010-09-16      2011-09-15    Male   38   \n",
       "12073  ID_ZZ5JOXU        2010-08-08      2011-08-07  Female   31   \n",
       "12074  ID_ZZA1SES        2010-05-25      2011-05-24  Female   30   \n",
       "12075  ID_ZZDAC3K        2010-10-03      2011-10-02  Female   59   \n",
       "12076  ID_ZZIU2XC        2010-10-10      2011-10-08    Male   34   \n",
       "12077  ID_ZZRQ1NF        2010-02-27      2011-02-26     NaN  120   \n",
       "12078  ID_ZZWRIIE        2010-07-01      2011-06-30  Female   46   \n",
       "\n",
       "      First Transaction Date  No_Pol Car_Category Subject_Car_Colour  \\\n",
       "12069             2010-05-23       1       Saloon              Black   \n",
       "12070             2010-07-10       2       Saloon                NaN   \n",
       "12071             2010-04-09       3       Saloon                NaN   \n",
       "12072             2010-09-16       1          NaN                NaN   \n",
       "12073             2010-08-08       1       Saloon              Cream   \n",
       "12074             2010-05-25       1          NaN              Black   \n",
       "12075             2010-10-03       1          NaN                NaN   \n",
       "12076             2010-10-10       1          NaN                NaN   \n",
       "12077             2010-02-27       2          NaN              White   \n",
       "12078             2010-07-01       2         JEEP              Black   \n",
       "\n",
       "      Subject_Car_Make         LGA_Name          State  ProductName  target  \n",
       "12069           TOYOTA              NaN            NaN  Car Classic       0  \n",
       "12070           TOYOTA              NaN            NaN  Car Classic       1  \n",
       "12071              Kia    Port-Harcourt  Port-Harcourt  Car Classic       0  \n",
       "12072              NaN       Obia/Akpor     Obia-Akpor  Car Classic       0  \n",
       "12073          Hyundai     Lagos Island          Lagos  Car Classic       0  \n",
       "12074      Range Rover      Ibeju/Lekki    Ibeju-Lekki  Car Classic       1  \n",
       "12075              NaN              NaN            NaN  Car Classic       0  \n",
       "12076              NaN              NaN            NaN      CarSafe       0  \n",
       "12077           TOYOTA  Victoria Island          Lagos         CVTP       0  \n",
       "12078       Land Rover     Lagos Island          Lagos  Car Classic       0  "
      ]
     },
     "execution_count": 4,
     "metadata": {},
     "output_type": "execute_result"
    }
   ],
   "source": [
    "# Checking the last 10 rows of the data\n",
    "df.tail(10)"
   ]
  },
  {
   "cell_type": "code",
   "execution_count": 5,
   "metadata": {},
   "outputs": [
    {
     "data": {
      "text/plain": [
       "(12079, 14)"
      ]
     },
     "execution_count": 5,
     "metadata": {},
     "output_type": "execute_result"
    }
   ],
   "source": [
    "# Checking the shape of the data \n",
    "df.shape"
   ]
  },
  {
   "cell_type": "code",
   "execution_count": 6,
   "metadata": {},
   "outputs": [
    {
     "data": {
      "text/plain": [
       "False"
      ]
     },
     "execution_count": 6,
     "metadata": {},
     "output_type": "execute_result"
    }
   ],
   "source": [
    "## Checking for duplicates\n",
    "df.duplicated().any()"
   ]
  },
  {
   "cell_type": "markdown",
   "metadata": {},
   "source": [
    "#### The data doesn't have any duplicates"
   ]
  },
  {
   "cell_type": "code",
   "execution_count": 7,
   "metadata": {},
   "outputs": [
    {
     "data": {
      "text/plain": [
       "<bound method NDFrame.describe of                ID Policy Start Date Policy End Date  Gender  Age  \\\n",
       "0      ID_0040R73        2010-05-14      2011-05-13    Male   30   \n",
       "1      ID_0046BNK        2010-11-29      2011-11-28  Female   79   \n",
       "2      ID_005QMC3        2010-03-21      2011-03-20    Male   43   \n",
       "3      ID_0079OHW        2010-08-21      2011-08-20    Male    2   \n",
       "4      ID_00BRP63        2010-08-29      2010-12-31  Entity   20   \n",
       "...           ...               ...             ...     ...  ...   \n",
       "12074  ID_ZZA1SES        2010-05-25      2011-05-24  Female   30   \n",
       "12075  ID_ZZDAC3K        2010-10-03      2011-10-02  Female   59   \n",
       "12076  ID_ZZIU2XC        2010-10-10      2011-10-08    Male   34   \n",
       "12077  ID_ZZRQ1NF        2010-02-27      2011-02-26     NaN  120   \n",
       "12078  ID_ZZWRIIE        2010-07-01      2011-06-30  Female   46   \n",
       "\n",
       "      First Transaction Date  No_Pol Car_Category Subject_Car_Colour  \\\n",
       "0                 2010-05-14       1       Saloon              Black   \n",
       "1                 2010-11-29       1         JEEP               Grey   \n",
       "2                 2010-03-21       1       Saloon                Red   \n",
       "3                 2010-08-21       1          NaN                NaN   \n",
       "4                 2010-08-29       3          NaN                NaN   \n",
       "...                      ...     ...          ...                ...   \n",
       "12074             2010-05-25       1          NaN              Black   \n",
       "12075             2010-10-03       1          NaN                NaN   \n",
       "12076             2010-10-10       1          NaN                NaN   \n",
       "12077             2010-02-27       2          NaN              White   \n",
       "12078             2010-07-01       2         JEEP              Black   \n",
       "\n",
       "      Subject_Car_Make         LGA_Name        State  ProductName  target  \n",
       "0               TOYOTA              NaN          NaN  Car Classic       0  \n",
       "1               TOYOTA              NaN          NaN  Car Classic       1  \n",
       "2               TOYOTA              NaN          NaN  Car Classic       0  \n",
       "3                  NaN              NaN          NaN      CarSafe       0  \n",
       "4                  NaN            Lagos        Lagos        Muuve       1  \n",
       "...                ...              ...          ...          ...     ...  \n",
       "12074      Range Rover      Ibeju/Lekki  Ibeju-Lekki  Car Classic       1  \n",
       "12075              NaN              NaN          NaN  Car Classic       0  \n",
       "12076              NaN              NaN          NaN      CarSafe       0  \n",
       "12077           TOYOTA  Victoria Island        Lagos         CVTP       0  \n",
       "12078       Land Rover     Lagos Island        Lagos  Car Classic       0  \n",
       "\n",
       "[12079 rows x 14 columns]>"
      ]
     },
     "execution_count": 7,
     "metadata": {},
     "output_type": "execute_result"
    }
   ],
   "source": [
    "## Checking the descriptive stats of the data\n",
    "df.describe"
   ]
  },
  {
   "cell_type": "markdown",
   "metadata": {},
   "source": [
    "### Task 2. Data Cleaning - Formatting Data Types"
   ]
  },
  {
   "cell_type": "code",
   "execution_count": 8,
   "metadata": {},
   "outputs": [
    {
     "data": {
      "text/plain": [
       "ID                        object\n",
       "Policy Start Date         object\n",
       "Policy End Date           object\n",
       "Gender                    object\n",
       "Age                        int64\n",
       "First Transaction Date    object\n",
       "No_Pol                     int64\n",
       "Car_Category              object\n",
       "Subject_Car_Colour        object\n",
       "Subject_Car_Make          object\n",
       "LGA_Name                  object\n",
       "State                     object\n",
       "ProductName               object\n",
       "target                     int64\n",
       "dtype: object"
      ]
     },
     "execution_count": 8,
     "metadata": {},
     "output_type": "execute_result"
    }
   ],
   "source": [
    "# Checking the data types of the data\n",
    "df.dtypes"
   ]
  },
  {
   "cell_type": "code",
   "execution_count": 9,
   "metadata": {},
   "outputs": [],
   "source": [
    "## Changing the data types of Policy Start Date, Policy End Date & First Transaction Date\n",
    "df['Policy Start Date'] = pd.to_datetime(df['Policy Start Date'])\n",
    "df['Policy End Date'] = pd.to_datetime(df['Policy End Date'])\n",
    "df['First Transaction Date'] = pd.to_datetime(df['First Transaction Date'])\n",
    "\n"
   ]
  },
  {
   "cell_type": "code",
   "execution_count": 10,
   "metadata": {},
   "outputs": [
    {
     "data": {
      "text/plain": [
       "ID                                object\n",
       "Policy Start Date         datetime64[ns]\n",
       "Policy End Date           datetime64[ns]\n",
       "Gender                            object\n",
       "Age                                int64\n",
       "First Transaction Date    datetime64[ns]\n",
       "No_Pol                             int64\n",
       "Car_Category                      object\n",
       "Subject_Car_Colour                object\n",
       "Subject_Car_Make                  object\n",
       "LGA_Name                          object\n",
       "State                             object\n",
       "ProductName                       object\n",
       "target                             int64\n",
       "dtype: object"
      ]
     },
     "execution_count": 10,
     "metadata": {},
     "output_type": "execute_result"
    }
   ],
   "source": [
    "## Confirming the data types have been changed\n",
    "df.dtypes"
   ]
  },
  {
   "cell_type": "markdown",
   "metadata": {},
   "source": [
    "### Task 3. Data Cleaning - Handling Missing Values"
   ]
  },
  {
   "cell_type": "code",
   "execution_count": 11,
   "metadata": {},
   "outputs": [
    {
     "data": {
      "text/plain": [
       "ID                           0\n",
       "Policy Start Date            0\n",
       "Policy End Date              0\n",
       "Gender                     359\n",
       "Age                          0\n",
       "First Transaction Date       0\n",
       "No_Pol                       0\n",
       "Car_Category              3738\n",
       "Subject_Car_Colour        6962\n",
       "Subject_Car_Make          2476\n",
       "LGA_Name                  6476\n",
       "State                     6488\n",
       "ProductName                  0\n",
       "target                       0\n",
       "dtype: int64"
      ]
     },
     "execution_count": 11,
     "metadata": {},
     "output_type": "execute_result"
    }
   ],
   "source": [
    "## Checking for any missing values\n",
    "df.isnull().sum()"
   ]
  },
  {
   "cell_type": "code",
   "execution_count": 12,
   "metadata": {},
   "outputs": [
    {
     "name": "stdout",
     "output_type": "stream",
     "text": [
      "Gender null rate is: 2.97%\n",
      "Car_Category null rate is: 30.95%\n",
      "Subject_Car_Colour null rate is: 57.64%\n",
      "Subject_Car_Make null rate is: 20.5%\n",
      "LGA_Name null rate is: 53.61%\n",
      "State null rate is: 53.71%\n"
     ]
    }
   ],
   "source": [
    "## Getting the percentage of missing data\n",
    "for i in df.columns:\n",
    "    null_rate = df[i].isna().sum()/len(df)*100\n",
    "    if null_rate > 0:\n",
    "        print('{} null rate is: {}%' .format(i,round(null_rate,2)))"
   ]
  },
  {
   "cell_type": "code",
   "execution_count": 13,
   "metadata": {},
   "outputs": [
    {
     "data": {
      "text/html": [
       "<div>\n",
       "<style scoped>\n",
       "    .dataframe tbody tr th:only-of-type {\n",
       "        vertical-align: middle;\n",
       "    }\n",
       "\n",
       "    .dataframe tbody tr th {\n",
       "        vertical-align: top;\n",
       "    }\n",
       "\n",
       "    .dataframe thead th {\n",
       "        text-align: right;\n",
       "    }\n",
       "</style>\n",
       "<table border=\"1\" class=\"dataframe\">\n",
       "  <thead>\n",
       "    <tr style=\"text-align: right;\">\n",
       "      <th></th>\n",
       "      <th>Total</th>\n",
       "      <th>Percent</th>\n",
       "    </tr>\n",
       "  </thead>\n",
       "  <tbody>\n",
       "    <tr>\n",
       "      <th>Subject_Car_Colour</th>\n",
       "      <td>6962</td>\n",
       "      <td>0.576372</td>\n",
       "    </tr>\n",
       "    <tr>\n",
       "      <th>State</th>\n",
       "      <td>6488</td>\n",
       "      <td>0.537131</td>\n",
       "    </tr>\n",
       "    <tr>\n",
       "      <th>LGA_Name</th>\n",
       "      <td>6476</td>\n",
       "      <td>0.536137</td>\n",
       "    </tr>\n",
       "    <tr>\n",
       "      <th>Car_Category</th>\n",
       "      <td>3738</td>\n",
       "      <td>0.309463</td>\n",
       "    </tr>\n",
       "    <tr>\n",
       "      <th>Subject_Car_Make</th>\n",
       "      <td>2476</td>\n",
       "      <td>0.204984</td>\n",
       "    </tr>\n",
       "    <tr>\n",
       "      <th>Gender</th>\n",
       "      <td>359</td>\n",
       "      <td>0.029721</td>\n",
       "    </tr>\n",
       "    <tr>\n",
       "      <th>ID</th>\n",
       "      <td>0</td>\n",
       "      <td>0.000000</td>\n",
       "    </tr>\n",
       "    <tr>\n",
       "      <th>Policy Start Date</th>\n",
       "      <td>0</td>\n",
       "      <td>0.000000</td>\n",
       "    </tr>\n",
       "    <tr>\n",
       "      <th>Policy End Date</th>\n",
       "      <td>0</td>\n",
       "      <td>0.000000</td>\n",
       "    </tr>\n",
       "    <tr>\n",
       "      <th>Age</th>\n",
       "      <td>0</td>\n",
       "      <td>0.000000</td>\n",
       "    </tr>\n",
       "    <tr>\n",
       "      <th>First Transaction Date</th>\n",
       "      <td>0</td>\n",
       "      <td>0.000000</td>\n",
       "    </tr>\n",
       "    <tr>\n",
       "      <th>No_Pol</th>\n",
       "      <td>0</td>\n",
       "      <td>0.000000</td>\n",
       "    </tr>\n",
       "    <tr>\n",
       "      <th>ProductName</th>\n",
       "      <td>0</td>\n",
       "      <td>0.000000</td>\n",
       "    </tr>\n",
       "    <tr>\n",
       "      <th>target</th>\n",
       "      <td>0</td>\n",
       "      <td>0.000000</td>\n",
       "    </tr>\n",
       "  </tbody>\n",
       "</table>\n",
       "</div>"
      ],
      "text/plain": [
       "                        Total   Percent\n",
       "Subject_Car_Colour       6962  0.576372\n",
       "State                    6488  0.537131\n",
       "LGA_Name                 6476  0.536137\n",
       "Car_Category             3738  0.309463\n",
       "Subject_Car_Make         2476  0.204984\n",
       "Gender                    359  0.029721\n",
       "ID                          0  0.000000\n",
       "Policy Start Date           0  0.000000\n",
       "Policy End Date             0  0.000000\n",
       "Age                         0  0.000000\n",
       "First Transaction Date      0  0.000000\n",
       "No_Pol                      0  0.000000\n",
       "ProductName                 0  0.000000\n",
       "target                      0  0.000000"
      ]
     },
     "execution_count": 13,
     "metadata": {},
     "output_type": "execute_result"
    }
   ],
   "source": [
    "## Checking the percentage of missing values\n",
    "total = df.isnull().sum().sort_values(ascending=False)\n",
    "percent = (df.isnull().sum()/df.isnull().count()).sort_values(ascending=False)\n",
    "missing_data = pd.concat([total, percent], axis=1, keys=['Total', 'Percent'])\n",
    "missing_data"
   ]
  },
  {
   "cell_type": "markdown",
   "metadata": {},
   "source": [
    "##### From the above observations, we can see that there are a few columns with alot of missing values. I opted to drop the ones with missing values above 31%, since already a huge chunk of information is missing and that would not be helpful in our analysis."
   ]
  },
  {
   "cell_type": "code",
   "execution_count": 14,
   "metadata": {},
   "outputs": [
    {
     "name": "stderr",
     "output_type": "stream",
     "text": [
      "C:\\Users\\Wangari Kimani\\AppData\\Local\\Temp\\ipykernel_11936\\3036251894.py:1: FutureWarning: In a future version of pandas all arguments of DataFrame.drop except for the argument 'labels' will be keyword-only.\n",
      "  df = df.drop((missing_data[missing_data['Percent'] > 0.31]).index,1)\n"
     ]
    },
    {
     "data": {
      "text/plain": [
       "ID                           0\n",
       "Policy Start Date            0\n",
       "Policy End Date              0\n",
       "Gender                     359\n",
       "Age                          0\n",
       "First Transaction Date       0\n",
       "No_Pol                       0\n",
       "Car_Category              3738\n",
       "Subject_Car_Make          2476\n",
       "ProductName                  0\n",
       "target                       0\n",
       "dtype: int64"
      ]
     },
     "execution_count": 14,
     "metadata": {},
     "output_type": "execute_result"
    }
   ],
   "source": [
    "df = df.drop((missing_data[missing_data['Percent'] > 0.31]).index,1)\n",
    "df.isnull().sum()\n"
   ]
  },
  {
   "cell_type": "code",
   "execution_count": 15,
   "metadata": {},
   "outputs": [
    {
     "data": {
      "text/plain": [
       "0    Male\n",
       "Name: Gender, dtype: object"
      ]
     },
     "execution_count": 15,
     "metadata": {},
     "output_type": "execute_result"
    }
   ],
   "source": [
    "df['Gender'].mode()"
   ]
  },
  {
   "cell_type": "code",
   "execution_count": 16,
   "metadata": {},
   "outputs": [],
   "source": [
    "## Dealing with missing data in Gender using mode\n",
    "df['Gender'] = df['Gender'].fillna(df['Gender'].mode()[0])"
   ]
  },
  {
   "cell_type": "code",
   "execution_count": 17,
   "metadata": {},
   "outputs": [
    {
     "data": {
      "text/plain": [
       "ID                           0\n",
       "Policy Start Date            0\n",
       "Policy End Date              0\n",
       "Gender                       0\n",
       "Age                          0\n",
       "First Transaction Date       0\n",
       "No_Pol                       0\n",
       "Car_Category              3738\n",
       "Subject_Car_Make          2476\n",
       "ProductName                  0\n",
       "target                       0\n",
       "dtype: int64"
      ]
     },
     "execution_count": 17,
     "metadata": {},
     "output_type": "execute_result"
    }
   ],
   "source": [
    "df.isnull().sum()"
   ]
  },
  {
   "cell_type": "code",
   "execution_count": 18,
   "metadata": {},
   "outputs": [],
   "source": [
    "## Dealing with missing data in Car category & subject car make using forward fill & Backward fill\n",
    "df['Car_Category'] = df['Car_Category'].fillna(method = 'ffill')\n",
    "df['Subject_Car_Make'] = df['Subject_Car_Make'].fillna(method = 'bfill')"
   ]
  },
  {
   "cell_type": "code",
   "execution_count": 19,
   "metadata": {},
   "outputs": [
    {
     "data": {
      "text/plain": [
       "ID                        0\n",
       "Policy Start Date         0\n",
       "Policy End Date           0\n",
       "Gender                    0\n",
       "Age                       0\n",
       "First Transaction Date    0\n",
       "No_Pol                    0\n",
       "Car_Category              0\n",
       "Subject_Car_Make          0\n",
       "ProductName               0\n",
       "target                    0\n",
       "dtype: int64"
      ]
     },
     "execution_count": 19,
     "metadata": {},
     "output_type": "execute_result"
    }
   ],
   "source": [
    "df.isnull().sum() # Confirming that all the missing values have been dealt with"
   ]
  },
  {
   "cell_type": "markdown",
   "metadata": {},
   "source": [
    "### Task 3. Data Cleaning - Handling Outliers"
   ]
  },
  {
   "cell_type": "code",
   "execution_count": 20,
   "metadata": {},
   "outputs": [
    {
     "data": {
      "text/plain": [
       "Index(['ID', 'Policy Start Date', 'Policy End Date', 'Gender', 'Age',\n",
       "       'First Transaction Date', 'No_Pol', 'Car_Category', 'Subject_Car_Make',\n",
       "       'ProductName', 'target'],\n",
       "      dtype='object')"
      ]
     },
     "execution_count": 20,
     "metadata": {},
     "output_type": "execute_result"
    }
   ],
   "source": [
    "df.columns"
   ]
  },
  {
   "cell_type": "code",
   "execution_count": 21,
   "metadata": {},
   "outputs": [
    {
     "data": {
      "text/plain": [
       "<AxesSubplot:xlabel='Age'>"
      ]
     },
     "execution_count": 21,
     "metadata": {},
     "output_type": "execute_result"
    },
    {
     "data": {
      "image/png": "[encoded data removed]",
      "text/plain": [
       "<Figure size 432x288 with 1 Axes>"
      ]
     },
     "metadata": {
      "needs_background": "light"
     },
     "output_type": "display_data"
    }
   ],
   "source": [
    "## Checking for outliers in the age column\n",
    "sns.boxplot(data = df, x = 'Age')"
   ]
  },
  {
   "cell_type": "markdown",
   "metadata": {},
   "source": [
    "#### There are clearly outliers in the age column\n"
   ]
  },
  {
   "cell_type": "code",
   "execution_count": 22,
   "metadata": {},
   "outputs": [
    {
     "data": {
      "text/plain": [
       "count    12079.000000\n",
       "mean        42.234539\n",
       "std         97.492565\n",
       "min      -6099.000000\n",
       "25%         35.000000\n",
       "50%         41.000000\n",
       "75%         50.000000\n",
       "max        320.000000\n",
       "Name: Age, dtype: float64"
      ]
     },
     "execution_count": 22,
     "metadata": {},
     "output_type": "execute_result"
    }
   ],
   "source": [
    "df['Age'].describe()"
   ]
  },
  {
   "cell_type": "code",
   "execution_count": 23,
   "metadata": {},
   "outputs": [
    {
     "name": "stdout",
     "output_type": "stream",
     "text": [
      "               ID Policy Start Date Policy End Date  Gender  Age  \\\n",
      "13     ID_00XG988        2010-03-26      2011-03-25  Female  120   \n",
      "38     ID_03O8OI6        2010-05-08      2011-05-07    Male  120   \n",
      "54     ID_058YC0S        2010-11-28      2011-11-27    Male  120   \n",
      "72     ID_070SYAE        2010-04-17      2011-04-16    Male  120   \n",
      "78     ID_07L368O        2010-09-16      2010-12-31    Male  120   \n",
      "...           ...               ...             ...     ...  ...   \n",
      "11977  ID_ZPICGRK        2010-07-23      2011-07-22    Male  120   \n",
      "12011  ID_ZT9FSYF        2010-10-02      2011-04-21    Male  120   \n",
      "12013  ID_ZTESDK9        2010-06-06      2011-02-16    Male  120   \n",
      "12030  ID_ZUOZDSW        2010-07-04      2011-07-02    Male  120   \n",
      "12077  ID_ZZRQ1NF        2010-02-27      2011-02-26    Male  120   \n",
      "\n",
      "      First Transaction Date  No_Pol Car_Category Subject_Car_Make  \\\n",
      "13                2010-03-26       2       Saloon           TOYOTA   \n",
      "38                2010-05-08       2         JEEP           TOYOTA   \n",
      "54                2010-11-28       1         JEEP            Lexus   \n",
      "72                2010-04-17       1         JEEP            Lexus   \n",
      "78                2010-09-16       4       Saloon           TOYOTA   \n",
      "...                      ...     ...          ...              ...   \n",
      "11977             2010-07-23       2       Saloon           TOYOTA   \n",
      "12011             2010-10-02       1       Saloon           TOYOTA   \n",
      "12013             2010-06-06       1       Saloon           TOYOTA   \n",
      "12030             2010-07-04       1         JEEP              Kia   \n",
      "12077             2010-02-27       2       Saloon           TOYOTA   \n",
      "\n",
      "            ProductName  target  \n",
      "13          Car Classic       0  \n",
      "38          Car Classic       0  \n",
      "54     Customized Motor       0  \n",
      "72     Customized Motor       0  \n",
      "78                Muuve       1  \n",
      "...                 ...     ...  \n",
      "11977       Car Classic       0  \n",
      "12011       Car Classic       0  \n",
      "12013       Car Classic       0  \n",
      "12030       Car Classic       0  \n",
      "12077              CVTP       0  \n",
      "\n",
      "[375 rows x 11 columns]\n"
     ]
    }
   ],
   "source": [
    "# identifying the outliers under age\n",
    "df_age_over = df.loc[df['Age'] > 100]\n",
    "print(df_age_over)"
   ]
  },
  {
   "cell_type": "code",
   "execution_count": 24,
   "metadata": {},
   "outputs": [
    {
     "name": "stdout",
     "output_type": "stream",
     "text": [
      "               ID Policy Start Date Policy End Date        Gender  Age  \\\n",
      "3      ID_0079OHW        2010-08-21      2011-08-20          Male    2   \n",
      "25     ID_02390ZY        2010-12-11      2011-12-10          Male    1   \n",
      "33     ID_034XN1U        2010-07-02      2011-07-01          Male    2   \n",
      "74     ID_076DFB7        2010-08-08      2011-08-07  Joint Gender    1   \n",
      "76     ID_0790YUZ        2010-09-30      2011-08-13        Female   11   \n",
      "...           ...               ...             ...           ...  ...   \n",
      "11870  ID_ZEEF6M5        2010-11-22      2011-11-21        Female    1   \n",
      "11941  ID_ZLVBMY0        2010-05-01      2011-04-30          Male    3   \n",
      "11960  ID_ZNLLMEF        2010-03-26      2011-03-25        Female    1   \n",
      "11965  ID_ZOANOBE        2010-10-10      2011-10-09          Male    2   \n",
      "12012  ID_ZTDPWLS        2010-09-30      2011-09-29          Male    1   \n",
      "\n",
      "      First Transaction Date  No_Pol Car_Category Subject_Car_Make  \\\n",
      "3                 2010-08-21       1       Saloon           TOYOTA   \n",
      "25                2010-12-11       1       Saloon           TOYOTA   \n",
      "33                2010-07-02       1   Motorcycle         Jincheng   \n",
      "74                2010-08-08       1         JEEP          Hyundai   \n",
      "76                2010-09-30       3       Saloon           TOYOTA   \n",
      "...                      ...     ...          ...              ...   \n",
      "11870             2010-11-22       1       Saloon            Honda   \n",
      "11941             2010-05-01       1       Saloon           Nissan   \n",
      "11960             2010-03-26       1         JEEP            Bajaj   \n",
      "11965             2010-10-10       1       Saloon              Kia   \n",
      "12012             2010-09-30       1       Saloon           TOYOTA   \n",
      "\n",
      "       ProductName  target  \n",
      "3          CarSafe       0  \n",
      "25         CarSafe       0  \n",
      "33     Motor Cycle       0  \n",
      "74         CarSafe       0  \n",
      "76     Car Classic       0  \n",
      "...            ...     ...  \n",
      "11870  Car Classic       0  \n",
      "11941      CarSafe       0  \n",
      "11960  Motor Cycle       0  \n",
      "11965  Car Classic       1  \n",
      "12012      CarSafe       0  \n",
      "\n",
      "[556 rows x 11 columns]\n"
     ]
    }
   ],
   "source": [
    "df_age_under = df.loc[df['Age'] < 18]\n",
    "print(df_age_under)"
   ]
  },
  {
   "cell_type": "code",
   "execution_count": 25,
   "metadata": {},
   "outputs": [
    {
     "data": {
      "text/plain": [
       "(11704, 11)"
      ]
     },
     "execution_count": 25,
     "metadata": {},
     "output_type": "execute_result"
    }
   ],
   "source": [
    "## We drop the ages that are above 100\n",
    "df = df.drop(df[df.Age > 100].index)\n",
    "df.shape"
   ]
  },
  {
   "cell_type": "code",
   "execution_count": 26,
   "metadata": {},
   "outputs": [
    {
     "data": {
      "text/plain": [
       "(11686, 11)"
      ]
     },
     "execution_count": 26,
     "metadata": {},
     "output_type": "execute_result"
    }
   ],
   "source": [
    "## We drop the ages that are less than 1\n",
    "df = df.drop(df[df.Age < 1].index)\n",
    "df.shape"
   ]
  },
  {
   "cell_type": "code",
   "execution_count": 27,
   "metadata": {},
   "outputs": [],
   "source": [
    "## For the ages that are below 18, we replace with the 25th percentile, which is 35\n",
    "df.loc[df['Age'] < 18,'Age'] = 35"
   ]
  },
  {
   "cell_type": "code",
   "execution_count": 28,
   "metadata": {},
   "outputs": [],
   "source": [
    "## For the ages that are above 80, we replace with the 75th percentile, which is 50\n",
    "df.loc[df['Age'] > 80,'Age'] = 50"
   ]
  },
  {
   "cell_type": "code",
   "execution_count": 29,
   "metadata": {},
   "outputs": [
    {
     "data": {
      "text/plain": [
       "count    11686.000000\n",
       "mean        42.329197\n",
       "std         11.114638\n",
       "min         18.000000\n",
       "25%         35.000000\n",
       "50%         40.000000\n",
       "75%         49.000000\n",
       "max         80.000000\n",
       "Name: Age, dtype: float64"
      ]
     },
     "execution_count": 29,
     "metadata": {},
     "output_type": "execute_result"
    }
   ],
   "source": [
    "df['Age'].describe()"
   ]
  },
  {
   "cell_type": "code",
   "execution_count": 30,
   "metadata": {},
   "outputs": [
    {
     "data": {
      "text/plain": [
       "(11686, 11)"
      ]
     },
     "execution_count": 30,
     "metadata": {},
     "output_type": "execute_result"
    }
   ],
   "source": [
    "df.shape"
   ]
  },
  {
   "cell_type": "code",
   "execution_count": 31,
   "metadata": {},
   "outputs": [
    {
     "data": {
      "text/plain": [
       "array(['Male', 'Female', 'Entity', 'Joint Gender', 'NO GENDER',\n",
       "       'NOT STATED', 'SEX'], dtype=object)"
      ]
     },
     "execution_count": 31,
     "metadata": {},
     "output_type": "execute_result"
    }
   ],
   "source": [
    "#Checking the unique gender features\n",
    "df['Gender'].unique()"
   ]
  },
  {
   "cell_type": "code",
   "execution_count": 32,
   "metadata": {},
   "outputs": [
    {
     "data": {
      "text/plain": [
       "Male      7663\n",
       "Female    3287\n",
       "Other      736\n",
       "Name: Gender, dtype: int64"
      ]
     },
     "execution_count": 32,
     "metadata": {},
     "output_type": "execute_result"
    }
   ],
   "source": [
    "## Removing the outliers in Gender\n",
    "mapper = {'Entity':'Other', 'Joint Gender':'Other', 'NOT STATED':'Other', 'NO GENDER': 'Other', 'SEX':\"Other\"}\n",
    "df.Gender = df.Gender.replace(mapper)\n",
    "\n",
    "# Confirm mappings\n",
    "df.Gender.value_counts()"
   ]
  },
  {
   "cell_type": "code",
   "execution_count": 33,
   "metadata": {},
   "outputs": [
    {
     "data": {
      "text/plain": [
       "<AxesSubplot:xlabel='No_Pol'>"
      ]
     },
     "execution_count": 33,
     "metadata": {},
     "output_type": "execute_result"
    },
    {
     "data": {
      "image/png": "[encoded data removed]",
      "text/plain": [
       "<Figure size 432x288 with 1 Axes>"
      ]
     },
     "metadata": {
      "needs_background": "light"
     },
     "output_type": "display_data"
    }
   ],
   "source": [
    "sns.boxplot(data = df,x = 'No_Pol')"
   ]
  },
  {
   "cell_type": "markdown",
   "metadata": {},
   "source": [
    "### Task 4 EDA"
   ]
  },
  {
   "cell_type": "code",
   "execution_count": 34,
   "metadata": {},
   "outputs": [
    {
     "data": {
      "text/plain": [
       "Text(0.5, 1.0, 'n_uniques = 3 \\n value counts \\n Male      0.655742\\nFemale    0.281277\\nOther     0.062981\\nName: Gender, dtype: float64;')"
      ]
     },
     "execution_count": 34,
     "metadata": {},
     "output_type": "execute_result"
    },
    {
     "data": {
      "image/png": "[encoded data removed]",
      "text/plain": [
       "<Figure size 432x288 with 1 Axes>"
      ]
     },
     "metadata": {
      "needs_background": "light"
     },
     "output_type": "display_data"
    }
   ],
   "source": [
    "#CountPlot for Gender\n",
    "\n",
    "# Count Values to display on the chart\n",
    "norm_count = df['Gender'].value_counts(normalize = True)\n",
    "n_uni = df['Gender'].nunique()\n",
    "\n",
    "#Display Chart\n",
    "\n",
    "sns.countplot(x = df['Gender']);\n",
    "#Display Labels\n",
    "plt.xlabel('Gender',fontweight='bold')\n",
    "plt.title('n_uniques = {} \\n value counts \\n {};'.format(n_uni,norm_count))"
   ]
  },
  {
   "cell_type": "code",
   "execution_count": 35,
   "metadata": {},
   "outputs": [
    {
     "name": "stdout",
     "output_type": "stream",
     "text": [
      "<class 'pandas.core.frame.DataFrame'>\n",
      "Int64Index: 11686 entries, 0 to 12078\n",
      "Data columns (total 11 columns):\n",
      " #   Column                  Non-Null Count  Dtype         \n",
      "---  ------                  --------------  -----         \n",
      " 0   ID                      11686 non-null  object        \n",
      " 1   Policy Start Date       11686 non-null  datetime64[ns]\n",
      " 2   Policy End Date         11686 non-null  datetime64[ns]\n",
      " 3   Gender                  11686 non-null  object        \n",
      " 4   Age                     11686 non-null  int64         \n",
      " 5   First Transaction Date  11686 non-null  datetime64[ns]\n",
      " 6   No_Pol                  11686 non-null  int64         \n",
      " 7   Car_Category            11686 non-null  object        \n",
      " 8   Subject_Car_Make        11686 non-null  object        \n",
      " 9   ProductName             11686 non-null  object        \n",
      " 10  target                  11686 non-null  int64         \n",
      "dtypes: datetime64[ns](3), int64(3), object(5)\n",
      "memory usage: 1.1+ MB\n"
     ]
    }
   ],
   "source": [
    "df.info()"
   ]
  },
  {
   "cell_type": "code",
   "execution_count": 36,
   "metadata": {},
   "outputs": [
    {
     "data": {
      "text/plain": [
       "Text(0.5, 1.0, 'n_uniques = 2 \\n value counts \\n 0    0.882338\\n1    0.117662\\nName: target, dtype: float64;')"
      ]
     },
     "execution_count": 36,
     "metadata": {},
     "output_type": "execute_result"
    },
    {
     "data": {
      "image/png": "[encoded data removed]",
      "text/plain": [
       "<Figure size 432x288 with 1 Axes>"
      ]
     },
     "metadata": {
      "needs_background": "light"
     },
     "output_type": "display_data"
    }
   ],
   "source": [
    "#CountPlot for target\n",
    "\n",
    "# Count Values to display on the chart\n",
    "norm_count = df['target'].value_counts(normalize = True)\n",
    "n_uni = df['target'].nunique()\n",
    "\n",
    "#Display Chart\n",
    "\n",
    "sns.countplot(x = df['target']);\n",
    "#Display Labels\n",
    "plt.xlabel('target',fontweight='bold')\n",
    "plt.title('n_uniques = {} \\n value counts \\n {};'.format(n_uni,norm_count))"
   ]
  },
  {
   "cell_type": "code",
   "execution_count": 37,
   "metadata": {},
   "outputs": [
    {
     "data": {
      "image/png": "[encoded data removed]",
      "text/plain": [
       "<Figure size 1152x1440 with 6 Axes>"
      ]
     },
     "metadata": {
      "needs_background": "light"
     },
     "output_type": "display_data"
    }
   ],
   "source": [
    "## Creating a histogram to see the distribution of our features.\n",
    "df.hist(figsize = (16,20), bins=50, xlabelsize=8, ylabelsize=8);"
   ]
  },
  {
   "cell_type": "markdown",
   "metadata": {},
   "source": [
    "### Task 5 Multivariate Analysis"
   ]
  },
  {
   "cell_type": "markdown",
   "metadata": {},
   "source": [
    "#### Correlation"
   ]
  },
  {
   "cell_type": "code",
   "execution_count": 38,
   "metadata": {},
   "outputs": [
    {
     "data": {
      "text/html": [
       "<div>\n",
       "<style scoped>\n",
       "    .dataframe tbody tr th:only-of-type {\n",
       "        vertical-align: middle;\n",
       "    }\n",
       "\n",
       "    .dataframe tbody tr th {\n",
       "        vertical-align: top;\n",
       "    }\n",
       "\n",
       "    .dataframe thead th {\n",
       "        text-align: right;\n",
       "    }\n",
       "</style>\n",
       "<table border=\"1\" class=\"dataframe\">\n",
       "  <thead>\n",
       "    <tr style=\"text-align: right;\">\n",
       "      <th></th>\n",
       "      <th>Age</th>\n",
       "      <th>No_Pol</th>\n",
       "      <th>target</th>\n",
       "    </tr>\n",
       "  </thead>\n",
       "  <tbody>\n",
       "    <tr>\n",
       "      <th>Age</th>\n",
       "      <td>1.000000</td>\n",
       "      <td>0.037263</td>\n",
       "      <td>-0.093783</td>\n",
       "    </tr>\n",
       "    <tr>\n",
       "      <th>No_Pol</th>\n",
       "      <td>0.037263</td>\n",
       "      <td>1.000000</td>\n",
       "      <td>0.046949</td>\n",
       "    </tr>\n",
       "    <tr>\n",
       "      <th>target</th>\n",
       "      <td>-0.093783</td>\n",
       "      <td>0.046949</td>\n",
       "      <td>1.000000</td>\n",
       "    </tr>\n",
       "  </tbody>\n",
       "</table>\n",
       "</div>"
      ],
      "text/plain": [
       "             Age    No_Pol    target\n",
       "Age     1.000000  0.037263 -0.093783\n",
       "No_Pol  0.037263  1.000000  0.046949\n",
       "target -0.093783  0.046949  1.000000"
      ]
     },
     "execution_count": 38,
     "metadata": {},
     "output_type": "execute_result"
    }
   ],
   "source": [
    "## Find correlation in variables\n",
    "df.corr().head()"
   ]
  },
  {
   "cell_type": "code",
   "execution_count": 39,
   "metadata": {},
   "outputs": [
    {
     "data": {
      "image/png": "[encoded data removed]",
      "text/plain": [
       "<Figure size 504x360 with 2 Axes>"
      ]
     },
     "metadata": {
      "needs_background": "light"
     },
     "output_type": "display_data"
    }
   ],
   "source": [
    "# Plotting a heat map\n",
    "plt.figure(figsize = (7,5))\n",
    "cor = df.corr()\n",
    "sns.heatmap(cor,annot = True, cmap = plt.cm.Blues)\n",
    "plt.show;"
   ]
  },
  {
   "cell_type": "code",
   "execution_count": 40,
   "metadata": {},
   "outputs": [
    {
     "name": "stdout",
     "output_type": "stream",
     "text": [
      "Age       0.093783\n",
      "No_Pol    0.046949\n",
      "target    1.000000\n",
      "Name: target, dtype: float64\n"
     ]
    }
   ],
   "source": [
    "#Correlation with the output variable\n",
    "cor_target = abs(cor['target'])\n",
    "print(cor_target)"
   ]
  },
  {
   "cell_type": "markdown",
   "metadata": {},
   "source": [
    "### Task 6. Modelling"
   ]
  },
  {
   "cell_type": "markdown",
   "metadata": {},
   "source": [
    "#### Logistic Regression"
   ]
  },
  {
   "cell_type": "code",
   "execution_count": 41,
   "metadata": {},
   "outputs": [
    {
     "data": {
      "text/plain": [
       "ID                                object\n",
       "Policy Start Date         datetime64[ns]\n",
       "Policy End Date           datetime64[ns]\n",
       "Gender                            object\n",
       "Age                                int64\n",
       "First Transaction Date    datetime64[ns]\n",
       "No_Pol                             int64\n",
       "Car_Category                      object\n",
       "Subject_Car_Make                  object\n",
       "ProductName                       object\n",
       "target                             int64\n",
       "dtype: object"
      ]
     },
     "execution_count": 41,
     "metadata": {},
     "output_type": "execute_result"
    }
   ],
   "source": [
    "df.dtypes"
   ]
  },
  {
   "cell_type": "code",
   "execution_count": 42,
   "metadata": {},
   "outputs": [],
   "source": [
    "## Conversion of data types\n",
    "df['Gender'] = df['Gender'].astype('category')\n",
    "df['Car_Category'] = df['Car_Category'].astype('category')\n",
    "df['Subject_Car_Make'] = df['Subject_Car_Make'].astype('category')\n",
    "df['ProductName'] = df['ProductName'].astype('category')\n",
    "\n"
   ]
  },
  {
   "cell_type": "code",
   "execution_count": 43,
   "metadata": {},
   "outputs": [],
   "source": [
    "df['ID'] = df['ID'].astype('category')"
   ]
  },
  {
   "cell_type": "code",
   "execution_count": 44,
   "metadata": {},
   "outputs": [],
   "source": [
    "## Importing more libraries\n",
    "from sklearn.preprocessing import LabelEncoder\n",
    "from sklearn import metrics\n",
    "from sklearn.feature_selection import SelectKBest\n",
    "from sklearn.feature_selection import chi2\n",
    "from sklearn.preprocessing import StandardScaler\n",
    "from sklearn.preprocessing import LabelEncoder\n",
    "from sklearn.linear_model import LogisticRegression"
   ]
  },
  {
   "cell_type": "code",
   "execution_count": 45,
   "metadata": {},
   "outputs": [],
   "source": [
    "#initializing an object of class LabelEncoder\n",
    "labelencoder= LabelEncoder() \n",
    "\n",
    "#fitting and transforming the Gender categorical column.\n",
    "df['Gender'] = labelencoder.fit_transform(df['Gender']) \n",
    "\n",
    "#fitting and transforming the Car_Category column\n",
    "df['Car_Category'] = labelencoder.fit_transform(df['Car_Category'])\n",
    "\n",
    "#fitting and transforming the Car_Category column\n",
    "df['Subject_Car_Make'] = labelencoder.fit_transform(df['Subject_Car_Make'])\n",
    "\n",
    "#fitting and transforming the Car_Category column\n",
    "df['ProductName'] = labelencoder.fit_transform(df['ProductName'])"
   ]
  },
  {
   "cell_type": "code",
   "execution_count": 46,
   "metadata": {},
   "outputs": [
    {
     "data": {
      "text/plain": [
       "Index(['ID', 'Policy Start Date', 'Policy End Date', 'Gender', 'Age',\n",
       "       'First Transaction Date', 'No_Pol', 'Car_Category', 'Subject_Car_Make',\n",
       "       'ProductName', 'target'],\n",
       "      dtype='object')"
      ]
     },
     "execution_count": 46,
     "metadata": {},
     "output_type": "execute_result"
    }
   ],
   "source": [
    "df.columns"
   ]
  },
  {
   "cell_type": "code",
   "execution_count": 47,
   "metadata": {},
   "outputs": [],
   "source": [
    "# setting the x and y variables\n",
    "from sklearn.model_selection import train_test_split,KFold,RandomizedSearchCV,GridSearchCV\n",
    "from sklearn.linear_model import LinearRegression\n",
    "X = df[['Gender','Age','No_Pol','Car_Category',\n",
    "'Subject_Car_Make','ProductName']]\n",
    "y = df['target'].values\n",
    "\n",
    "# split the data into train and test\n",
    "X_train, X_test, y_train, y_test = train_test_split(X, y, test_size=0.2, random_state=0)"
   ]
  },
  {
   "cell_type": "code",
   "execution_count": 48,
   "metadata": {},
   "outputs": [],
   "source": [
    "# Fitting our logistic regression  model to our train sets \n",
    "LogReg = LogisticRegression()\n",
    "LogReg.fit(X_train, y_train)\n",
    "#using our model to make predictions\n",
    "y_pred = LogReg.predict(X_test)"
   ]
  },
  {
   "cell_type": "code",
   "execution_count": 49,
   "metadata": {},
   "outputs": [
    {
     "data": {
      "text/plain": [
       "array([[2078,    2],\n",
       "       [ 258,    0]], dtype=int64)"
      ]
     },
     "execution_count": 49,
     "metadata": {},
     "output_type": "execute_result"
    }
   ],
   "source": [
    "# Evaluating the model\n",
    "from sklearn.metrics import confusion_matrix\n",
    "confusion_matrix = confusion_matrix(y_test, y_pred)\n",
    "confusion_matrix"
   ]
  },
  {
   "cell_type": "code",
   "execution_count": 50,
   "metadata": {},
   "outputs": [
    {
     "data": {
      "image/png": "[encoded data removed]",
      "text/plain": [
       "<Figure size 432x288 with 2 Axes>"
      ]
     },
     "metadata": {
      "needs_background": "light"
     },
     "output_type": "display_data"
    }
   ],
   "source": [
    "# Evaluating the model\n",
    "confusion_matrix = metrics.confusion_matrix(y_test, y_pred)\n",
    "cm_display = metrics.ConfusionMatrixDisplay(confusion_matrix = confusion_matrix, display_labels = [False, True])\n",
    "\n",
    "cm_display.plot()\n",
    "plt.show()"
   ]
  },
  {
   "cell_type": "markdown",
   "metadata": {},
   "source": [
    "##### Our model accurately placed 2078 and 0 true negatives and true positives. It however still finished with 258 false positives and 2 false negatives"
   ]
  },
  {
   "cell_type": "markdown",
   "metadata": {},
   "source": [
    "#### SVM Model"
   ]
  },
  {
   "cell_type": "code",
   "execution_count": 51,
   "metadata": {},
   "outputs": [],
   "source": [
    "# Import the required libraries.\n",
    "from sklearn.svm import SVC\n",
    "from sklearn import metrics\n",
    "from sklearn.metrics import confusion_matrix, accuracy_score\n",
    "from sklearn.model_selection import cross_val_score\n",
    "from sklearn.model_selection import KFold\n",
    "from sklearn import model_selection"
   ]
  },
  {
   "cell_type": "markdown",
   "metadata": {},
   "source": [
    "#### SVM uses a set of mathematical functions defined as the kernel. The ernel takes data as input and transform it into the required form.\n",
    "We have different types of kernels\n",
    "Linear, nonlinear, polynomial, radial basis function and sigmoid. RBF is the most used because it has localized and finite response along the x-axis"
   ]
  },
  {
   "cell_type": "code",
   "execution_count": 52,
   "metadata": {},
   "outputs": [
    {
     "data": {
      "text/html": [
       "<style>#sk-container-id-1 {color: black;background-color: white;}#sk-container-id-1 pre{padding: 0;}#sk-container-id-1 div.sk-toggleable {background-color: white;}#sk-container-id-1 label.sk-toggleable__label {cursor: pointer;display: block;width: 100%;margin-bottom: 0;padding: 0.3em;box-sizing: border-box;text-align: center;}#sk-container-id-1 label.sk-toggleable__label-arrow:before {content: \"▸\";float: left;margin-right: 0.25em;color: #696969;}#sk-container-id-1 label.sk-toggleable__label-arrow:hover:before {color: black;}#sk-container-id-1 div.sk-estimator:hover label.sk-toggleable__label-arrow:before {color: black;}#sk-container-id-1 div.sk-toggleable__content {max-height: 0;max-width: 0;overflow: hidden;text-align: left;background-color: #f0f8ff;}#sk-container-id-1 div.sk-toggleable__content pre {margin: 0.2em;color: black;border-radius: 0.25em;background-color: #f0f8ff;}#sk-container-id-1 input.sk-toggleable__control:checked~div.sk-toggleable__content {max-height: 200px;max-width: 100%;overflow: auto;}#sk-container-id-1 input.sk-toggleable__control:checked~label.sk-toggleable__label-arrow:before {content: \"▾\";}#sk-container-id-1 div.sk-estimator input.sk-toggleable__control:checked~label.sk-toggleable__label {background-color: #d4ebff;}#sk-container-id-1 div.sk-label input.sk-toggleable__control:checked~label.sk-toggleable__label {background-color: #d4ebff;}#sk-container-id-1 input.sk-hidden--visually {border: 0;clip: rect(1px 1px 1px 1px);clip: rect(1px, 1px, 1px, 1px);height: 1px;margin: -1px;overflow: hidden;padding: 0;position: absolute;width: 1px;}#sk-container-id-1 div.sk-estimator {font-family: monospace;background-color: #f0f8ff;border: 1px dotted black;border-radius: 0.25em;box-sizing: border-box;margin-bottom: 0.5em;}#sk-container-id-1 div.sk-estimator:hover {background-color: #d4ebff;}#sk-container-id-1 div.sk-parallel-item::after {content: \"\";width: 100%;border-bottom: 1px solid gray;flex-grow: 1;}#sk-container-id-1 div.sk-label:hover label.sk-toggleable__label {background-color: #d4ebff;}#sk-container-id-1 div.sk-serial::before {content: \"\";position: absolute;border-left: 1px solid gray;box-sizing: border-box;top: 0;bottom: 0;left: 50%;z-index: 0;}#sk-container-id-1 div.sk-serial {display: flex;flex-direction: column;align-items: center;background-color: white;padding-right: 0.2em;padding-left: 0.2em;position: relative;}#sk-container-id-1 div.sk-item {position: relative;z-index: 1;}#sk-container-id-1 div.sk-parallel {display: flex;align-items: stretch;justify-content: center;background-color: white;position: relative;}#sk-container-id-1 div.sk-item::before, #sk-container-id-1 div.sk-parallel-item::before {content: \"\";position: absolute;border-left: 1px solid gray;box-sizing: border-box;top: 0;bottom: 0;left: 50%;z-index: -1;}#sk-container-id-1 div.sk-parallel-item {display: flex;flex-direction: column;z-index: 1;position: relative;background-color: white;}#sk-container-id-1 div.sk-parallel-item:first-child::after {align-self: flex-end;width: 50%;}#sk-container-id-1 div.sk-parallel-item:last-child::after {align-self: flex-start;width: 50%;}#sk-container-id-1 div.sk-parallel-item:only-child::after {width: 0;}#sk-container-id-1 div.sk-dashed-wrapped {border: 1px dashed gray;margin: 0 0.4em 0.5em 0.4em;box-sizing: border-box;padding-bottom: 0.4em;background-color: white;}#sk-container-id-1 div.sk-label label {font-family: monospace;font-weight: bold;display: inline-block;line-height: 1.2em;}#sk-container-id-1 div.sk-label-container {text-align: center;}#sk-container-id-1 div.sk-container {/* jupyter's `normalize.less` sets `[hidden] { display: none; }` but bootstrap.min.css set `[hidden] { display: none !important; }` so we also need the `!important` here to be able to override the default hidden behavior on the sphinx rendered scikit-learn.org. See: https://github.com/scikit-learn/scikit-learn/issues/21755 */display: inline-block !important;position: relative;}#sk-container-id-1 div.sk-text-repr-fallback {display: none;}</style><div id=\"sk-container-id-1\" class=\"sk-top-container\"><div class=\"sk-text-repr-fallback\"><pre>SVC(kernel=&#x27;sigmoid&#x27;)</pre><b>In a Jupyter environment, please rerun this cell to show the HTML representation or trust the notebook. <br />On GitHub, the HTML representation is unable to render, please try loading this page with nbviewer.org.</b></div><div class=\"sk-container\" hidden><div class=\"sk-item\"><div class=\"sk-estimator sk-toggleable\"><input class=\"sk-toggleable__control sk-hidden--visually\" id=\"sk-estimator-id-1\" type=\"checkbox\" checked><label for=\"sk-estimator-id-1\" class=\"sk-toggleable__label sk-toggleable__label-arrow\">SVC</label><div class=\"sk-toggleable__content\"><pre>SVC(kernel=&#x27;sigmoid&#x27;)</pre></div></div></div></div></div>"
      ],
      "text/plain": [
       "SVC(kernel='sigmoid')"
      ]
     },
     "execution_count": 52,
     "metadata": {},
     "output_type": "execute_result"
    }
   ],
   "source": [
    "# We build our model and fit our data to a sigmoid \n",
    "svc = SVC(kernel = 'sigmoid')\n",
    "svc.fit(X_train,y_train)"
   ]
  },
  {
   "cell_type": "code",
   "execution_count": 53,
   "metadata": {},
   "outputs": [],
   "source": [
    "# Make predictions using our model\n",
    "svcpred = svc.predict(X_test)"
   ]
  },
  {
   "cell_type": "code",
   "execution_count": 54,
   "metadata": {},
   "outputs": [],
   "source": [
    "# Use k-fold 10 fold split to validate performance of our model.\n",
    "#splitting our data to different subsets so that our model can train better.\n",
    "k_fold = KFold(n_splits=10, shuffle=True, random_state=0)"
   ]
  },
  {
   "cell_type": "code",
   "execution_count": 55,
   "metadata": {},
   "outputs": [
    {
     "name": "stdout",
     "output_type": "stream",
     "text": [
      "81.0\n"
     ]
    }
   ],
   "source": [
    "# Access the accuracy of our model.\n",
    "kfold = model_selection.KFold(n_splits=10)\n",
    "print(round(accuracy_score(y_test, svcpred),2)*100)\n",
    "SVCCV = (cross_val_score(svc, X_train, y_train, cv=k_fold, n_jobs=1, scoring = 'accuracy').mean())"
   ]
  },
  {
   "cell_type": "markdown",
   "metadata": {},
   "source": [
    "#####  We achieved 81% accuracy using sigmoid, this means our model is performing as desired."
   ]
  },
  {
   "cell_type": "code",
   "execution_count": 56,
   "metadata": {},
   "outputs": [
    {
     "data": {
      "image/png": "[encoded data removed]",
      "text/plain": [
       "<Figure size 432x288 with 2 Axes>"
      ]
     },
     "metadata": {
      "needs_background": "light"
     },
     "output_type": "display_data"
    }
   ],
   "source": [
    "# Use confusion matrix to access/ visualize how our model classified or performed.\n",
    "confusion_matrix = metrics.confusion_matrix(y_test, svcpred)\n",
    "cm_display = metrics.ConfusionMatrixDisplay(confusion_matrix = confusion_matrix, display_labels = [False, True])\n",
    "\n",
    "cm_display.plot()\n",
    "plt.show()"
   ]
  },
  {
   "cell_type": "markdown",
   "metadata": {},
   "source": [
    "##### Our model managed to correctly classify 67 true positives( predicted values predited as actual positive) and 160 true negatives( predicted values correctly as an actual negative), as seen in the accuracy score, the model performance is poor. The model is struggling in identifying customers who buy or not buy a phone."
   ]
  },
  {
   "cell_type": "markdown",
   "metadata": {},
   "source": [
    "### SVM ~ RBF Kernel"
   ]
  },
  {
   "cell_type": "code",
   "execution_count": 57,
   "metadata": {},
   "outputs": [
    {
     "name": "stdout",
     "output_type": "stream",
     "text": [
      "89.0\n"
     ]
    },
    {
     "data": {
      "image/png": "[encoded data removed]",
      "text/plain": [
       "<Figure size 432x288 with 2 Axes>"
      ]
     },
     "metadata": {
      "needs_background": "light"
     },
     "output_type": "display_data"
    }
   ],
   "source": [
    "# We build our model and fit our data to a rbf\n",
    "svc= SVC(kernel = 'rbf')\n",
    "svc.fit(X_train, y_train)\n",
    "# Make predictions using our model\n",
    "svcpred = svc.predict(X_test)\n",
    "# Access the accuracy of our model.\n",
    "kfold = model_selection.KFold(n_splits=10)\n",
    "print(round(accuracy_score(y_test, svcpred),2)*100)\n",
    "SVCCV = (cross_val_score(svc, X_train, y_train, cv=k_fold, n_jobs=1, scoring = 'accuracy').mean())\n",
    "# Use confusion matrix to access/ visualize how our model classified or performed.\n",
    "confusion_matrix = metrics.confusion_matrix(y_test, svcpred)\n",
    "cm_display = metrics.ConfusionMatrixDisplay(confusion_matrix = confusion_matrix, display_labels = [False, True])\n",
    "\n",
    "cm_display.plot()\n",
    "plt.show()"
   ]
  },
  {
   "cell_type": "markdown",
   "metadata": {},
   "source": [
    "##### We achieved 89% accuracy using rbf kernel, it is an improvement from the sigmoid model.The model predicted 2080 true negatives and 258 false negatives"
   ]
  },
  {
   "cell_type": "markdown",
   "metadata": {},
   "source": [
    "### Decision Tree Classifier"
   ]
  },
  {
   "cell_type": "markdown",
   "metadata": {},
   "source": [
    "Decision tree is a supervised learning technique that can be used both for classification and regression. It is a tree-structured classifier, where internal nodes represent the features of a dataset, branches represent the decision rules and each leaf node represents the outcome.\n",
    "\n",
    "In a decision tree, for predicting the class of the given dataset, the algorithm starts from the root node of the tree. This algorithm compares the values of root attribute with the record (real dataset) attribute and, based on the comparison, follows the branch and jumps to the next node. This is continuous until ir reaches the leaf node of the tree"
   ]
  },
  {
   "cell_type": "code",
   "execution_count": 58,
   "metadata": {},
   "outputs": [],
   "source": [
    "# import decision tree library\n",
    "from sklearn.tree import DecisionTreeClassifier\n",
    "\n",
    "dtree = DecisionTreeClassifier(criterion='gini') #criterion = entopy, gini\n",
    "# fit our data to our model\n",
    "dtree.fit(X_train, y_train)\n",
    "dtreepred = dtree.predict(X_test)"
   ]
  },
  {
   "cell_type": "code",
   "execution_count": 59,
   "metadata": {},
   "outputs": [
    {
     "name": "stdout",
     "output_type": "stream",
     "text": [
      "86.0\n"
     ]
    }
   ],
   "source": [
    "#Access the accuracy of our model\n",
    "print(round(accuracy_score(y_test, dtreepred),2)*100)\n",
    "DTREECV = (cross_val_score(dtree, X_train, y_train, cv=k_fold, n_jobs=1, scoring = 'accuracy').mean())"
   ]
  },
  {
   "cell_type": "markdown",
   "metadata": {},
   "source": [
    "Our model achieved 86% accuracy, this is lower than the SVM model."
   ]
  },
  {
   "cell_type": "code",
   "execution_count": 60,
   "metadata": {},
   "outputs": [
    {
     "data": {
      "image/png": "[encoded data removed]",
      "text/plain": [
       "<Figure size 432x288 with 2 Axes>"
      ]
     },
     "metadata": {
      "needs_background": "light"
     },
     "output_type": "display_data"
    }
   ],
   "source": [
    "# Visualize model performance using a confusion matrix to access recall and precision\n",
    "confusion_matrix = metrics.confusion_matrix(y_test, dtreepred)\n",
    "cm_display = metrics.ConfusionMatrixDisplay(confusion_matrix = confusion_matrix, display_labels = [False, True])\n",
    "\n",
    "cm_display.plot()\n",
    "plt.show()"
   ]
  },
  {
   "cell_type": "markdown",
   "metadata": {},
   "source": [
    " The model struggled in identifying true positives and true negatives. The model correctly predicts 35 and 1983 true positive and true negative values respectively, it however still identified 97 false positives and 223 false negatives."
   ]
  },
  {
   "cell_type": "markdown",
   "metadata": {},
   "source": [
    "### Random Forest"
   ]
  },
  {
   "cell_type": "markdown",
   "metadata": {},
   "source": [
    "Random forest, like its name implies, consists of a large number of individual decision trees that operate as an ensemble. Each individual tree in the random forest spits out a class prediction and the class with the most votes becomes our model’s prediction."
   ]
  },
  {
   "cell_type": "code",
   "execution_count": 61,
   "metadata": {},
   "outputs": [],
   "source": [
    "#import random forest classifier\n",
    "from sklearn.ensemble import RandomForestClassifier\n",
    "\n",
    "rfc = RandomForestClassifier(n_estimators = 200)#criterion = entopy,gini\n",
    "#fit data to to our model\n",
    "rfc.fit(X_train, y_train)\n",
    "rfcpred = rfc.predict(X_test)"
   ]
  },
  {
   "cell_type": "code",
   "execution_count": 62,
   "metadata": {},
   "outputs": [
    {
     "name": "stdout",
     "output_type": "stream",
     "text": [
      "88.0\n"
     ]
    }
   ],
   "source": [
    "# access the accuracy of our model\n",
    "print(round(accuracy_score(y_test, rfcpred),2)*100)\n",
    "RFCCV = (cross_val_score(rfc, X_train, y_train, cv=k_fold, n_jobs=1, scoring = 'accuracy').mean())"
   ]
  },
  {
   "cell_type": "code",
   "execution_count": 63,
   "metadata": {},
   "outputs": [
    {
     "data": {
      "image/png": "[encoded data removed]",
      "text/plain": [
       "<Figure size 432x288 with 2 Axes>"
      ]
     },
     "metadata": {
      "needs_background": "light"
     },
     "output_type": "display_data"
    }
   ],
   "source": [
    "# Evaluating the model using confusion matrix\n",
    "confusion_matrix = metrics.confusion_matrix(y_test, rfcpred)\n",
    "cm_display = metrics.ConfusionMatrixDisplay(confusion_matrix = confusion_matrix, display_labels = [False, True])\n",
    "\n",
    "cm_display.plot()\n",
    "plt.show()"
   ]
  },
  {
   "cell_type": "markdown",
   "metadata": {},
   "source": [
    "### K-Nearest"
   ]
  },
  {
   "cell_type": "markdown",
   "metadata": {},
   "source": [
    "The k-nearest neighbors algorithm, also known as KNN or k-NN, is a non-parametric, supervised learning classifier, which uses proximity to make classifications or predictions about the grouping of an individual data point. While it can be used for either regression or classification problems, it is typically used as a classification algorithm, working off the assumption that similar points can be found near one another"
   ]
  },
  {
   "cell_type": "code",
   "execution_count": 64,
   "metadata": {},
   "outputs": [],
   "source": [
    "#import knearest classifier.\n",
    "from sklearn.neighbors import KNeighborsClassifier\n",
    "# Build the model\n",
    "knn = KNeighborsClassifier(n_neighbors=22)\n",
    "#fit the data to our model\n",
    "knn.fit(X_train, y_train)\n",
    "knnpred = knn.predict(X_test)"
   ]
  },
  {
   "cell_type": "code",
   "execution_count": 65,
   "metadata": {},
   "outputs": [
    {
     "name": "stdout",
     "output_type": "stream",
     "text": [
      "89.0\n"
     ]
    }
   ],
   "source": [
    "print(round(accuracy_score(y_test, knnpred),2)*100)\n",
    "KNNCV = (cross_val_score(knn, X_train, y_train, cv=k_fold, n_jobs=1, scoring = 'accuracy').mean())"
   ]
  },
  {
   "cell_type": "markdown",
   "metadata": {},
   "source": [
    "Our model acheived 89% accuracy, this is the same as the SVM rbf model"
   ]
  },
  {
   "cell_type": "code",
   "execution_count": 66,
   "metadata": {},
   "outputs": [
    {
     "data": {
      "image/png": "[encoded data removed]",
      "text/plain": [
       "<Figure size 432x288 with 2 Axes>"
      ]
     },
     "metadata": {
      "needs_background": "light"
     },
     "output_type": "display_data"
    }
   ],
   "source": [
    "# Evaluating the model\n",
    "confusion_matrix = metrics.confusion_matrix(y_test, knnpred)\n",
    "cm_display = metrics.ConfusionMatrixDisplay(confusion_matrix = confusion_matrix, display_labels = [False, True])\n",
    "\n",
    "cm_display.plot()\n",
    "plt.show()"
   ]
  },
  {
   "cell_type": "markdown",
   "metadata": {},
   "source": [
    "Our K-nearest model placed 0 and 2079 true positives and true negatives. It however still finished with 1 false positive and 258 false negatives."
   ]
  },
  {
   "cell_type": "markdown",
   "metadata": {},
   "source": [
    "### Ensemble Averaging Method"
   ]
  },
  {
   "cell_type": "markdown",
   "metadata": {},
   "source": [
    "To challenge the model we used an ensemble averaging method. The method consists of building multiple models independently and returning the average of the prediction of all the models. In general, the combined output is better than an individual output because variance is reduced.\n",
    "\n",
    "In the below example, three regression models (linear regression, xgboost, and random forest) are trained and their predictions are averaged. The final prediction output is pred_final"
   ]
  },
  {
   "cell_type": "code",
   "execution_count": 67,
   "metadata": {},
   "outputs": [
    {
     "name": "stdout",
     "output_type": "stream",
     "text": [
      "Collecting xgboostNote: you may need to restart the kernel to use updated packages.\n",
      "\n",
      "  Downloading xgboost-1.7.1-py3-none-win_amd64.whl (89.1 MB)\n",
      "     -------------------------------------- 89.1/89.1 MB 175.5 kB/s eta 0:00:00\n",
      "Requirement already satisfied: numpy in c:\\users\\wangari kimani\\appdata\\local\\programs\\python\\python310\\lib\\site-packages (from xgboost) (1.23.1)\n",
      "Requirement already satisfied: scipy in c:\\users\\wangari kimani\\appdata\\local\\programs\\python\\python310\\lib\\site-packages (from xgboost) (1.8.1)\n",
      "Installing collected packages: xgboost\n",
      "Successfully installed xgboost-1.7.1\n"
     ]
    },
    {
     "name": "stderr",
     "output_type": "stream",
     "text": [
      "\n",
      "[notice] A new release of pip available: 22.2.2 -> 22.3.1\n",
      "[notice] To update, run: python.exe -m pip install --upgrade pip\n"
     ]
    }
   ],
   "source": [
    "pip install xgboost"
   ]
  },
  {
   "cell_type": "code",
   "execution_count": 68,
   "metadata": {},
   "outputs": [],
   "source": [
    "## Importing necessary libraries\n",
    "from sklearn.ensemble import RandomForestRegressor\n",
    "import xgboost as xgb\n",
    "from sklearn.metrics import mean_squared_error\n",
    "from sklearn.model_selection import train_test_split"
   ]
  },
  {
   "cell_type": "code",
   "execution_count": 69,
   "metadata": {},
   "outputs": [
    {
     "name": "stdout",
     "output_type": "stream",
     "text": [
      "0.08976005233040878\n"
     ]
    }
   ],
   "source": [
    "# initializing all the model objects with default parameters\n",
    "model_1 = LinearRegression()\n",
    "model_2 = xgb.XGBRegressor()\n",
    "model_3 = RandomForestRegressor()\n",
    "\n",
    "# training all the model on the training dataset\n",
    "model_1.fit(X_train, y_train)\n",
    "model_2.fit(X_train, y_train)\n",
    "model_3.fit(X_train, y_train)\n",
    " \n",
    "# predicting the output on the validation dataset\n",
    "pred_1 = model_1.predict(X_test)\n",
    "pred_2 = model_2.predict(X_test)\n",
    "pred_3 = model_3.predict(X_test)\n",
    " \n",
    "# final prediction after averaging on the prediction of all 3 models\n",
    "pred_final = (pred_1+pred_2+pred_3)/3.0\n",
    " \n",
    "# printing the root mean squared error between real value and predicted value\n",
    "print(mean_squared_error(y_test, pred_final))"
   ]
  },
  {
   "cell_type": "markdown",
   "metadata": {},
   "source": [
    "The MSE of the ensemble is 0.09, indicating the ensemble of our techniques has an accuracy of our 91%. Our model output individually at 89% is deemed to be satisfactory given the dataset we have."
   ]
  },
  {
   "cell_type": "markdown",
   "metadata": {},
   "source": [
    "### Exploring and Cleaning the Test Data"
   ]
  },
  {
   "cell_type": "code",
   "execution_count": 128,
   "metadata": {},
   "outputs": [
    {
     "data": {
      "text/html": [
       "<div>\n",
       "<style scoped>\n",
       "    .dataframe tbody tr th:only-of-type {\n",
       "        vertical-align: middle;\n",
       "    }\n",
       "\n",
       "    .dataframe tbody tr th {\n",
       "        vertical-align: top;\n",
       "    }\n",
       "\n",
       "    .dataframe thead th {\n",
       "        text-align: right;\n",
       "    }\n",
       "</style>\n",
       "<table border=\"1\" class=\"dataframe\">\n",
       "  <thead>\n",
       "    <tr style=\"text-align: right;\">\n",
       "      <th></th>\n",
       "      <th>ID</th>\n",
       "      <th>Policy Start Date</th>\n",
       "      <th>Policy End Date</th>\n",
       "      <th>Gender</th>\n",
       "      <th>Age</th>\n",
       "      <th>First Transaction Date</th>\n",
       "      <th>No_Pol</th>\n",
       "      <th>Car_Category</th>\n",
       "      <th>Subject_Car_Colour</th>\n",
       "      <th>Subject_Car_Make</th>\n",
       "      <th>LGA_Name</th>\n",
       "      <th>State</th>\n",
       "      <th>ProductName</th>\n",
       "    </tr>\n",
       "  </thead>\n",
       "  <tbody>\n",
       "    <tr>\n",
       "      <th>0</th>\n",
       "      <td>ID_01QM0NU</td>\n",
       "      <td>2010-10-23</td>\n",
       "      <td>2011-10-22</td>\n",
       "      <td>Female</td>\n",
       "      <td>46</td>\n",
       "      <td>2010-10-23</td>\n",
       "      <td>1</td>\n",
       "      <td>NaN</td>\n",
       "      <td>NaN</td>\n",
       "      <td>Ford</td>\n",
       "      <td>Abuja Municipal</td>\n",
       "      <td>Abuja-Municipal</td>\n",
       "      <td>Car Classic</td>\n",
       "    </tr>\n",
       "    <tr>\n",
       "      <th>1</th>\n",
       "      <td>ID_024NJLZ</td>\n",
       "      <td>2010-10-14</td>\n",
       "      <td>2011-10-13</td>\n",
       "      <td>Male</td>\n",
       "      <td>32</td>\n",
       "      <td>2010-10-14</td>\n",
       "      <td>1</td>\n",
       "      <td>NaN</td>\n",
       "      <td>NaN</td>\n",
       "      <td>NaN</td>\n",
       "      <td>Kosofe</td>\n",
       "      <td>Benue</td>\n",
       "      <td>Car Classic</td>\n",
       "    </tr>\n",
       "    <tr>\n",
       "      <th>2</th>\n",
       "      <td>ID_02NOVWQ</td>\n",
       "      <td>2010-08-29</td>\n",
       "      <td>2011-08-28</td>\n",
       "      <td>Female</td>\n",
       "      <td>45</td>\n",
       "      <td>2010-08-29</td>\n",
       "      <td>2</td>\n",
       "      <td>Saloon</td>\n",
       "      <td>Black</td>\n",
       "      <td>Honda</td>\n",
       "      <td>Wuse 11</td>\n",
       "      <td>Abuja</td>\n",
       "      <td>Car Classic</td>\n",
       "    </tr>\n",
       "    <tr>\n",
       "      <th>3</th>\n",
       "      <td>ID_02VSP68</td>\n",
       "      <td>2010-06-13</td>\n",
       "      <td>2011-06-12</td>\n",
       "      <td>Female</td>\n",
       "      <td>58</td>\n",
       "      <td>2010-06-13</td>\n",
       "      <td>1</td>\n",
       "      <td>Saloon</td>\n",
       "      <td>NaN</td>\n",
       "      <td>TOYOTA</td>\n",
       "      <td>NaN</td>\n",
       "      <td>NaN</td>\n",
       "      <td>CarSafe</td>\n",
       "    </tr>\n",
       "    <tr>\n",
       "      <th>4</th>\n",
       "      <td>ID_02YB37K</td>\n",
       "      <td>2010-07-01</td>\n",
       "      <td>2011-06-30</td>\n",
       "      <td>NaN</td>\n",
       "      <td>120</td>\n",
       "      <td>2010-07-01</td>\n",
       "      <td>1</td>\n",
       "      <td>Saloon</td>\n",
       "      <td>Red</td>\n",
       "      <td>Hyundai</td>\n",
       "      <td>Victoria Island</td>\n",
       "      <td>Lagos</td>\n",
       "      <td>Car Classic</td>\n",
       "    </tr>\n",
       "  </tbody>\n",
       "</table>\n",
       "</div>"
      ],
      "text/plain": [
       "           ID Policy Start Date Policy End Date  Gender  Age  \\\n",
       "0  ID_01QM0NU        2010-10-23      2011-10-22  Female   46   \n",
       "1  ID_024NJLZ        2010-10-14      2011-10-13    Male   32   \n",
       "2  ID_02NOVWQ        2010-08-29      2011-08-28  Female   45   \n",
       "3  ID_02VSP68        2010-06-13      2011-06-12  Female   58   \n",
       "4  ID_02YB37K        2010-07-01      2011-06-30     NaN  120   \n",
       "\n",
       "  First Transaction Date  No_Pol Car_Category Subject_Car_Colour  \\\n",
       "0             2010-10-23       1          NaN                NaN   \n",
       "1             2010-10-14       1          NaN                NaN   \n",
       "2             2010-08-29       2       Saloon              Black   \n",
       "3             2010-06-13       1       Saloon                NaN   \n",
       "4             2010-07-01       1       Saloon                Red   \n",
       "\n",
       "  Subject_Car_Make         LGA_Name            State  ProductName  \n",
       "0             Ford  Abuja Municipal  Abuja-Municipal  Car Classic  \n",
       "1              NaN           Kosofe            Benue  Car Classic  \n",
       "2            Honda          Wuse 11            Abuja  Car Classic  \n",
       "3           TOYOTA              NaN              NaN      CarSafe  \n",
       "4          Hyundai  Victoria Island            Lagos  Car Classic  "
      ]
     },
     "execution_count": 128,
     "metadata": {},
     "output_type": "execute_result"
    }
   ],
   "source": [
    "df2 = pd.read_csv(\"C:\\\\Users\\\\Wangari Kimani\\\\Documents\\\\MSc DSA\\\\FCC\\\\PRACTICE\\\\WiD Datathon\\\\abc\\\\Test.csv\")\n",
    "df2.head()"
   ]
  },
  {
   "cell_type": "code",
   "execution_count": 129,
   "metadata": {},
   "outputs": [
    {
     "data": {
      "text/plain": [
       "(1202, 13)"
      ]
     },
     "execution_count": 129,
     "metadata": {},
     "output_type": "execute_result"
    }
   ],
   "source": [
    "## Checking the shape of the test data\n",
    "df2.shape"
   ]
  },
  {
   "cell_type": "code",
   "execution_count": 130,
   "metadata": {},
   "outputs": [
    {
     "data": {
      "text/plain": [
       "False"
      ]
     },
     "execution_count": 130,
     "metadata": {},
     "output_type": "execute_result"
    }
   ],
   "source": [
    "## Checking for duplicates\n",
    "df2.duplicated().any()"
   ]
  },
  {
   "cell_type": "markdown",
   "metadata": {},
   "source": [
    "### Changing data types"
   ]
  },
  {
   "cell_type": "code",
   "execution_count": 131,
   "metadata": {},
   "outputs": [
    {
     "data": {
      "text/plain": [
       "ID                        object\n",
       "Policy Start Date         object\n",
       "Policy End Date           object\n",
       "Gender                    object\n",
       "Age                        int64\n",
       "First Transaction Date    object\n",
       "No_Pol                     int64\n",
       "Car_Category              object\n",
       "Subject_Car_Colour        object\n",
       "Subject_Car_Make          object\n",
       "LGA_Name                  object\n",
       "State                     object\n",
       "ProductName               object\n",
       "dtype: object"
      ]
     },
     "execution_count": 131,
     "metadata": {},
     "output_type": "execute_result"
    }
   ],
   "source": [
    "# Checking the data types of the data\n",
    "df2.dtypes"
   ]
  },
  {
   "cell_type": "code",
   "execution_count": 132,
   "metadata": {},
   "outputs": [],
   "source": [
    "## Changing the data types of Policy Start Date, Policy End Date & First Transaction Date\n",
    "df2['Policy Start Date'] = pd.to_datetime(df2['Policy Start Date'])\n",
    "df2['Policy End Date'] = pd.to_datetime(df2['Policy End Date'])\n",
    "df2['First Transaction Date'] = pd.to_datetime(df2['First Transaction Date'])"
   ]
  },
  {
   "cell_type": "markdown",
   "metadata": {},
   "source": [
    "### Handling missing values"
   ]
  },
  {
   "cell_type": "code",
   "execution_count": 133,
   "metadata": {},
   "outputs": [
    {
     "data": {
      "text/plain": [
       "ID                          0\n",
       "Policy Start Date           0\n",
       "Policy End Date             0\n",
       "Gender                     41\n",
       "Age                         0\n",
       "First Transaction Date      0\n",
       "No_Pol                      0\n",
       "Car_Category              372\n",
       "Subject_Car_Colour        697\n",
       "Subject_Car_Make          248\n",
       "LGA_Name                  656\n",
       "State                     656\n",
       "ProductName                 0\n",
       "dtype: int64"
      ]
     },
     "execution_count": 133,
     "metadata": {},
     "output_type": "execute_result"
    }
   ],
   "source": [
    "## We check whether the data contains any missing values\n",
    "df2.isnull().sum()"
   ]
  },
  {
   "cell_type": "code",
   "execution_count": 134,
   "metadata": {},
   "outputs": [
    {
     "data": {
      "text/html": [
       "<div>\n",
       "<style scoped>\n",
       "    .dataframe tbody tr th:only-of-type {\n",
       "        vertical-align: middle;\n",
       "    }\n",
       "\n",
       "    .dataframe tbody tr th {\n",
       "        vertical-align: top;\n",
       "    }\n",
       "\n",
       "    .dataframe thead th {\n",
       "        text-align: right;\n",
       "    }\n",
       "</style>\n",
       "<table border=\"1\" class=\"dataframe\">\n",
       "  <thead>\n",
       "    <tr style=\"text-align: right;\">\n",
       "      <th></th>\n",
       "      <th>Total</th>\n",
       "      <th>Percent</th>\n",
       "    </tr>\n",
       "  </thead>\n",
       "  <tbody>\n",
       "    <tr>\n",
       "      <th>Subject_Car_Colour</th>\n",
       "      <td>697</td>\n",
       "      <td>0.579867</td>\n",
       "    </tr>\n",
       "    <tr>\n",
       "      <th>LGA_Name</th>\n",
       "      <td>656</td>\n",
       "      <td>0.545757</td>\n",
       "    </tr>\n",
       "    <tr>\n",
       "      <th>State</th>\n",
       "      <td>656</td>\n",
       "      <td>0.545757</td>\n",
       "    </tr>\n",
       "    <tr>\n",
       "      <th>Car_Category</th>\n",
       "      <td>372</td>\n",
       "      <td>0.309484</td>\n",
       "    </tr>\n",
       "    <tr>\n",
       "      <th>Subject_Car_Make</th>\n",
       "      <td>248</td>\n",
       "      <td>0.206323</td>\n",
       "    </tr>\n",
       "    <tr>\n",
       "      <th>Gender</th>\n",
       "      <td>41</td>\n",
       "      <td>0.034110</td>\n",
       "    </tr>\n",
       "    <tr>\n",
       "      <th>ID</th>\n",
       "      <td>0</td>\n",
       "      <td>0.000000</td>\n",
       "    </tr>\n",
       "    <tr>\n",
       "      <th>Policy Start Date</th>\n",
       "      <td>0</td>\n",
       "      <td>0.000000</td>\n",
       "    </tr>\n",
       "    <tr>\n",
       "      <th>Policy End Date</th>\n",
       "      <td>0</td>\n",
       "      <td>0.000000</td>\n",
       "    </tr>\n",
       "    <tr>\n",
       "      <th>Age</th>\n",
       "      <td>0</td>\n",
       "      <td>0.000000</td>\n",
       "    </tr>\n",
       "    <tr>\n",
       "      <th>First Transaction Date</th>\n",
       "      <td>0</td>\n",
       "      <td>0.000000</td>\n",
       "    </tr>\n",
       "    <tr>\n",
       "      <th>No_Pol</th>\n",
       "      <td>0</td>\n",
       "      <td>0.000000</td>\n",
       "    </tr>\n",
       "    <tr>\n",
       "      <th>ProductName</th>\n",
       "      <td>0</td>\n",
       "      <td>0.000000</td>\n",
       "    </tr>\n",
       "  </tbody>\n",
       "</table>\n",
       "</div>"
      ],
      "text/plain": [
       "                        Total   Percent\n",
       "Subject_Car_Colour        697  0.579867\n",
       "LGA_Name                  656  0.545757\n",
       "State                     656  0.545757\n",
       "Car_Category              372  0.309484\n",
       "Subject_Car_Make          248  0.206323\n",
       "Gender                     41  0.034110\n",
       "ID                          0  0.000000\n",
       "Policy Start Date           0  0.000000\n",
       "Policy End Date             0  0.000000\n",
       "Age                         0  0.000000\n",
       "First Transaction Date      0  0.000000\n",
       "No_Pol                      0  0.000000\n",
       "ProductName                 0  0.000000"
      ]
     },
     "execution_count": 134,
     "metadata": {},
     "output_type": "execute_result"
    }
   ],
   "source": [
    "## Checking the percentage of missing values\n",
    "total = df2.isnull().sum().sort_values(ascending=False)\n",
    "percent = (df2.isnull().sum()/df2.isnull().count()).sort_values(ascending=False)\n",
    "missing_data2 = pd.concat([total, percent], axis=1, keys=['Total', 'Percent'])\n",
    "missing_data2"
   ]
  },
  {
   "cell_type": "code",
   "execution_count": 135,
   "metadata": {},
   "outputs": [],
   "source": [
    "## Dealing with missing data in Gender using mode\n",
    "df2['Gender'] = df2['Gender'].fillna(df2['Gender'].mode()[0])"
   ]
  },
  {
   "cell_type": "code",
   "execution_count": 139,
   "metadata": {},
   "outputs": [],
   "source": [
    "## Dealing with missing data in Subject_Car_Colour, LGA_Name & State car make using forward fill & Backward fill\n",
    "df2['Subject_Car_Colour'] = df2['Subject_Car_Colour'].fillna(method = 'bfill')\n",
    "df2['LGA_Name'] = df2['LGA_Name'].fillna(method = 'ffill')\n",
    "df2['State'] = df2['State'].fillna(method = 'ffill')"
   ]
  },
  {
   "cell_type": "code",
   "execution_count": 137,
   "metadata": {},
   "outputs": [],
   "source": [
    "## Dealing with missing data in Car category & subject car make using forward fill & Backward fill\n",
    "df2['Car_Category'] = df2['Car_Category'].fillna(method = 'bfill')\n",
    "df2['Subject_Car_Make'] = df2['Subject_Car_Make'].fillna(method = 'bfill')"
   ]
  },
  {
   "cell_type": "code",
   "execution_count": 140,
   "metadata": {},
   "outputs": [
    {
     "data": {
      "text/plain": [
       "ID                        0\n",
       "Policy Start Date         0\n",
       "Policy End Date           0\n",
       "Gender                    0\n",
       "Age                       0\n",
       "First Transaction Date    0\n",
       "No_Pol                    0\n",
       "Car_Category              0\n",
       "Subject_Car_Colour        0\n",
       "Subject_Car_Make          0\n",
       "LGA_Name                  0\n",
       "State                     0\n",
       "ProductName               0\n",
       "dtype: int64"
      ]
     },
     "execution_count": 140,
     "metadata": {},
     "output_type": "execute_result"
    }
   ],
   "source": [
    "## Confirming all missing values have been handled\n",
    "df2.isnull().sum()"
   ]
  },
  {
   "cell_type": "markdown",
   "metadata": {},
   "source": [
    "### Dealing with Outliers"
   ]
  },
  {
   "cell_type": "code",
   "execution_count": 71,
   "metadata": {},
   "outputs": [
    {
     "data": {
      "text/plain": [
       "<AxesSubplot:xlabel='Age'>"
      ]
     },
     "execution_count": 71,
     "metadata": {},
     "output_type": "execute_result"
    },
    {
     "data": {
      "image/png": "[encoded data removed]",
      "text/plain": [
       "<Figure size 432x288 with 1 Axes>"
      ]
     },
     "metadata": {
      "needs_background": "light"
     },
     "output_type": "display_data"
    }
   ],
   "source": [
    "sns.boxplot(data = df2, x = 'Age')"
   ]
  },
  {
   "cell_type": "code",
   "execution_count": 72,
   "metadata": {},
   "outputs": [
    {
     "data": {
      "text/plain": [
       "count    1202.000000\n",
       "mean       43.792845\n",
       "std        19.986245\n",
       "min       -26.000000\n",
       "25%        35.000000\n",
       "50%        41.000000\n",
       "75%        50.000000\n",
       "max       120.000000\n",
       "Name: Age, dtype: float64"
      ]
     },
     "execution_count": 72,
     "metadata": {},
     "output_type": "execute_result"
    }
   ],
   "source": [
    "df2['Age'].describe()"
   ]
  },
  {
   "cell_type": "code",
   "execution_count": 141,
   "metadata": {},
   "outputs": [],
   "source": [
    "## For the ages that are below 18, we replace with the 25th percentile, which is 35\n",
    "df2.loc[df2['Age'] < 18,'Age'] = 35\n",
    "\n",
    "## For the ages that are above 80, we replace with the 75th percentile, which is 50\n",
    "df2.loc[df2['Age'] > 80,'Age'] = 50"
   ]
  },
  {
   "cell_type": "code",
   "execution_count": 142,
   "metadata": {},
   "outputs": [
    {
     "data": {
      "text/plain": [
       "count    1202.000000\n",
       "mean       42.609817\n",
       "std        11.266509\n",
       "min        18.000000\n",
       "25%        35.000000\n",
       "50%        41.000000\n",
       "75%        50.000000\n",
       "max        80.000000\n",
       "Name: Age, dtype: float64"
      ]
     },
     "execution_count": 142,
     "metadata": {},
     "output_type": "execute_result"
    }
   ],
   "source": [
    "df2['Age'].describe()"
   ]
  },
  {
   "cell_type": "code",
   "execution_count": 143,
   "metadata": {},
   "outputs": [
    {
     "data": {
      "text/plain": [
       "array(['Female', 'Male', 'NOT STATED', 'Entity', 'NO GENDER',\n",
       "       'Joint Gender', 'SEX'], dtype=object)"
      ]
     },
     "execution_count": 143,
     "metadata": {},
     "output_type": "execute_result"
    }
   ],
   "source": [
    "#Checking the unique gender features\n",
    "df2['Gender'].unique()\n",
    "\n"
   ]
  },
  {
   "cell_type": "code",
   "execution_count": 144,
   "metadata": {},
   "outputs": [
    {
     "data": {
      "text/plain": [
       "Male      780\n",
       "Female    352\n",
       "Other      70\n",
       "Name: Gender, dtype: int64"
      ]
     },
     "execution_count": 144,
     "metadata": {},
     "output_type": "execute_result"
    }
   ],
   "source": [
    "## Removing the outliers in Gender\n",
    "mapper = {'Entity':'Other', 'Joint Gender':'Other', 'NOT STATED':'Other', 'NO GENDER': 'Other', 'SEX':\"Other\"}\n",
    "df2.Gender = df2.Gender.replace(mapper)\n",
    "\n",
    "# Confirm mappings\n",
    "df2.Gender.value_counts()"
   ]
  },
  {
   "cell_type": "markdown",
   "metadata": {},
   "source": [
    "### Fitting the Model to our Validation Data"
   ]
  },
  {
   "cell_type": "code",
   "execution_count": 146,
   "metadata": {},
   "outputs": [],
   "source": [
    "#initializing an object of class LabelEncoder\n",
    "labelencoder= LabelEncoder() \n",
    "\n",
    "#fitting and transforming the Gender categorical column.\n",
    "df2['Gender'] = labelencoder.fit_transform(df2['Gender']) \n",
    "\n",
    "#fitting and transforming the Car_Category column\n",
    "df2['Car_Category'] = labelencoder.fit_transform(df2['Car_Category'])\n",
    "\n",
    "#fitting and transforming the Car_Category column\n",
    "df2['Subject_Car_Make'] = labelencoder.fit_transform(df2['Subject_Car_Make'])\n",
    "\n",
    "#fitting and transforming the Car_Category column\n",
    "df2['ProductName'] = labelencoder.fit_transform(df2['ProductName'])"
   ]
  },
  {
   "cell_type": "code",
   "execution_count": 147,
   "metadata": {},
   "outputs": [],
   "source": [
    "## Conversion of data types\n",
    "df2['Gender'] = df2['Gender'].astype('category')\n",
    "df2['Car_Category'] = df2['Car_Category'].astype('category')\n",
    "df2['Subject_Car_Make'] = df2['Subject_Car_Make'].astype('category')\n",
    "df2['ProductName'] = df2['ProductName'].astype('category')\n",
    "df2['ID'] = df2['ID'].astype('category')"
   ]
  },
  {
   "cell_type": "code",
   "execution_count": 148,
   "metadata": {},
   "outputs": [],
   "source": [
    "## Adding the empty target variable to the test data\n",
    "df2['target'] = ''"
   ]
  },
  {
   "cell_type": "code",
   "execution_count": 149,
   "metadata": {},
   "outputs": [
    {
     "data": {
      "text/plain": [
       "Index(['ID', 'Policy Start Date', 'Policy End Date', 'Gender', 'Age',\n",
       "       'First Transaction Date', 'No_Pol', 'Car_Category',\n",
       "       'Subject_Car_Colour', 'Subject_Car_Make', 'LGA_Name', 'State',\n",
       "       'ProductName', 'target'],\n",
       "      dtype='object')"
      ]
     },
     "execution_count": 149,
     "metadata": {},
     "output_type": "execute_result"
    }
   ],
   "source": [
    "df2.columns"
   ]
  },
  {
   "cell_type": "code",
   "execution_count": 150,
   "metadata": {},
   "outputs": [
    {
     "data": {
      "text/plain": [
       "0        \n",
       "1        \n",
       "2        \n",
       "3        \n",
       "4        \n",
       "       ..\n",
       "1197     \n",
       "1198     \n",
       "1199     \n",
       "1200     \n",
       "1201     \n",
       "Name: target, Length: 1202, dtype: object"
      ]
     },
     "execution_count": 150,
     "metadata": {},
     "output_type": "execute_result"
    }
   ],
   "source": [
    "df2['target']"
   ]
  },
  {
   "cell_type": "code",
   "execution_count": 151,
   "metadata": {},
   "outputs": [],
   "source": [
    "## Defining our X and Y variables used in fitting the model\n",
    "X = df2[['Gender','Age','No_Pol','Car_Category',\n",
    "'Subject_Car_Make','ProductName']]\n",
    "y = df2['target'].values"
   ]
  },
  {
   "cell_type": "code",
   "execution_count": 182,
   "metadata": {},
   "outputs": [
    {
     "data": {
      "text/plain": [
       "(1202, 6)"
      ]
     },
     "execution_count": 182,
     "metadata": {},
     "output_type": "execute_result"
    }
   ],
   "source": [
    "X.shape"
   ]
  },
  {
   "cell_type": "code",
   "execution_count": 183,
   "metadata": {},
   "outputs": [
    {
     "data": {
      "text/plain": [
       "array([0, 0, 0, ..., 0, 0, 0], dtype=int64)"
      ]
     },
     "execution_count": 183,
     "metadata": {},
     "output_type": "execute_result"
    }
   ],
   "source": [
    "## Predicting our y variable \n",
    "y_pred = dtree.predict(X)\n",
    "\n",
    "y_pred"
   ]
  },
  {
   "cell_type": "code",
   "execution_count": 184,
   "metadata": {},
   "outputs": [
    {
     "data": {
      "text/plain": [
       "(1202,)"
      ]
     },
     "execution_count": 184,
     "metadata": {},
     "output_type": "execute_result"
    }
   ],
   "source": [
    "y_pred.shape"
   ]
  },
  {
   "cell_type": "code",
   "execution_count": 185,
   "metadata": {},
   "outputs": [
    {
     "data": {
      "text/plain": [
       "[0       ID_01QM0NU\n",
       " 1       ID_024NJLZ\n",
       " 2       ID_02NOVWQ\n",
       " 3       ID_02VSP68\n",
       " 4       ID_02YB37K\n",
       "            ...    \n",
       " 1197    ID_ZTTHC5X\n",
       " 1198    ID_ZUJAFUP\n",
       " 1199    ID_ZWHCTUM\n",
       " 1200    ID_ZWQRL8L\n",
       " 1201    ID_ZWZ92GU\n",
       " Name: ID, Length: 1202, dtype: category\n",
       " Categories (1202, object): ['ID_01QM0NU', 'ID_024NJLZ', 'ID_02NOVWQ', 'ID_02VSP68', ..., 'ID_ZUJAFUP', 'ID_ZWHCTUM', 'ID_ZWQRL8L', 'ID_ZWZ92GU'],\n",
       " array([0, 0, 0, ..., 0, 0, 0], dtype=int64)]"
      ]
     },
     "execution_count": 185,
     "metadata": {},
     "output_type": "execute_result"
    }
   ],
   "source": [
    "## Connecting our ID column and the predicted column\n",
    "label =[df2['ID'],y_pred]\n",
    "label"
   ]
  },
  {
   "cell_type": "code",
   "execution_count": 186,
   "metadata": {},
   "outputs": [
    {
     "data": {
      "text/html": [
       "<div>\n",
       "<style scoped>\n",
       "    .dataframe tbody tr th:only-of-type {\n",
       "        vertical-align: middle;\n",
       "    }\n",
       "\n",
       "    .dataframe tbody tr th {\n",
       "        vertical-align: top;\n",
       "    }\n",
       "\n",
       "    .dataframe thead th {\n",
       "        text-align: right;\n",
       "    }\n",
       "</style>\n",
       "<table border=\"1\" class=\"dataframe\">\n",
       "  <thead>\n",
       "    <tr style=\"text-align: right;\">\n",
       "      <th></th>\n",
       "      <th>0</th>\n",
       "      <th>1</th>\n",
       "      <th>2</th>\n",
       "      <th>3</th>\n",
       "      <th>4</th>\n",
       "      <th>5</th>\n",
       "      <th>6</th>\n",
       "      <th>7</th>\n",
       "      <th>8</th>\n",
       "      <th>9</th>\n",
       "      <th>...</th>\n",
       "      <th>1192</th>\n",
       "      <th>1193</th>\n",
       "      <th>1194</th>\n",
       "      <th>1195</th>\n",
       "      <th>1196</th>\n",
       "      <th>1197</th>\n",
       "      <th>1198</th>\n",
       "      <th>1199</th>\n",
       "      <th>1200</th>\n",
       "      <th>1201</th>\n",
       "    </tr>\n",
       "  </thead>\n",
       "  <tbody>\n",
       "    <tr>\n",
       "      <th>ID</th>\n",
       "      <td>ID_01QM0NU</td>\n",
       "      <td>ID_024NJLZ</td>\n",
       "      <td>ID_02NOVWQ</td>\n",
       "      <td>ID_02VSP68</td>\n",
       "      <td>ID_02YB37K</td>\n",
       "      <td>ID_04OFD80</td>\n",
       "      <td>ID_04UA1UO</td>\n",
       "      <td>ID_06QWOUO</td>\n",
       "      <td>ID_06SOU7C</td>\n",
       "      <td>ID_0CRE393</td>\n",
       "      <td>...</td>\n",
       "      <td>ID_ZP4DSAM</td>\n",
       "      <td>ID_ZPP94KU</td>\n",
       "      <td>ID_ZQZ5AFX</td>\n",
       "      <td>ID_ZRCEQL0</td>\n",
       "      <td>ID_ZS4AMG0</td>\n",
       "      <td>ID_ZTTHC5X</td>\n",
       "      <td>ID_ZUJAFUP</td>\n",
       "      <td>ID_ZWHCTUM</td>\n",
       "      <td>ID_ZWQRL8L</td>\n",
       "      <td>ID_ZWZ92GU</td>\n",
       "    </tr>\n",
       "    <tr>\n",
       "      <th>Unnamed 0</th>\n",
       "      <td>0</td>\n",
       "      <td>0</td>\n",
       "      <td>0</td>\n",
       "      <td>0</td>\n",
       "      <td>0</td>\n",
       "      <td>0</td>\n",
       "      <td>1</td>\n",
       "      <td>0</td>\n",
       "      <td>0</td>\n",
       "      <td>0</td>\n",
       "      <td>...</td>\n",
       "      <td>0</td>\n",
       "      <td>0</td>\n",
       "      <td>0</td>\n",
       "      <td>0</td>\n",
       "      <td>0</td>\n",
       "      <td>0</td>\n",
       "      <td>0</td>\n",
       "      <td>0</td>\n",
       "      <td>0</td>\n",
       "      <td>0</td>\n",
       "    </tr>\n",
       "  </tbody>\n",
       "</table>\n",
       "<p>2 rows × 1202 columns</p>\n",
       "</div>"
      ],
      "text/plain": [
       "                 0           1           2           3           4     \\\n",
       "ID         ID_01QM0NU  ID_024NJLZ  ID_02NOVWQ  ID_02VSP68  ID_02YB37K   \n",
       "Unnamed 0           0           0           0           0           0   \n",
       "\n",
       "                 5           6           7           8           9     ...  \\\n",
       "ID         ID_04OFD80  ID_04UA1UO  ID_06QWOUO  ID_06SOU7C  ID_0CRE393  ...   \n",
       "Unnamed 0           0           1           0           0           0  ...   \n",
       "\n",
       "                 1192        1193        1194        1195        1196  \\\n",
       "ID         ID_ZP4DSAM  ID_ZPP94KU  ID_ZQZ5AFX  ID_ZRCEQL0  ID_ZS4AMG0   \n",
       "Unnamed 0           0           0           0           0           0   \n",
       "\n",
       "                 1197        1198        1199        1200        1201  \n",
       "ID         ID_ZTTHC5X  ID_ZUJAFUP  ID_ZWHCTUM  ID_ZWQRL8L  ID_ZWZ92GU  \n",
       "Unnamed 0           0           0           0           0           0  \n",
       "\n",
       "[2 rows x 1202 columns]"
      ]
     },
     "execution_count": 186,
     "metadata": {},
     "output_type": "execute_result"
    }
   ],
   "source": [
    "## Creating a new dataframe containing the ID and the Predicted well-being variable\n",
    "df_result = pd.DataFrame(label)\n",
    "df_result"
   ]
  },
  {
   "cell_type": "code",
   "execution_count": 187,
   "metadata": {},
   "outputs": [
    {
     "data": {
      "text/html": [
       "<div>\n",
       "<style scoped>\n",
       "    .dataframe tbody tr th:only-of-type {\n",
       "        vertical-align: middle;\n",
       "    }\n",
       "\n",
       "    .dataframe tbody tr th {\n",
       "        vertical-align: top;\n",
       "    }\n",
       "\n",
       "    .dataframe thead th {\n",
       "        text-align: right;\n",
       "    }\n",
       "</style>\n",
       "<table border=\"1\" class=\"dataframe\">\n",
       "  <thead>\n",
       "    <tr style=\"text-align: right;\">\n",
       "      <th></th>\n",
       "      <th>ID</th>\n",
       "      <th>Unnamed 0</th>\n",
       "    </tr>\n",
       "  </thead>\n",
       "  <tbody>\n",
       "    <tr>\n",
       "      <th>0</th>\n",
       "      <td>ID_01QM0NU</td>\n",
       "      <td>0</td>\n",
       "    </tr>\n",
       "    <tr>\n",
       "      <th>1</th>\n",
       "      <td>ID_024NJLZ</td>\n",
       "      <td>0</td>\n",
       "    </tr>\n",
       "    <tr>\n",
       "      <th>2</th>\n",
       "      <td>ID_02NOVWQ</td>\n",
       "      <td>0</td>\n",
       "    </tr>\n",
       "    <tr>\n",
       "      <th>3</th>\n",
       "      <td>ID_02VSP68</td>\n",
       "      <td>0</td>\n",
       "    </tr>\n",
       "    <tr>\n",
       "      <th>4</th>\n",
       "      <td>ID_02YB37K</td>\n",
       "      <td>0</td>\n",
       "    </tr>\n",
       "  </tbody>\n",
       "</table>\n",
       "</div>"
      ],
      "text/plain": [
       "           ID Unnamed 0\n",
       "0  ID_01QM0NU         0\n",
       "1  ID_024NJLZ         0\n",
       "2  ID_02NOVWQ         0\n",
       "3  ID_02VSP68         0\n",
       "4  ID_02YB37K         0"
      ]
     },
     "execution_count": 187,
     "metadata": {},
     "output_type": "execute_result"
    }
   ],
   "source": [
    "## Transposing our new dataframe\n",
    "Results = df_result.transpose()\n",
    "Results.head()"
   ]
  },
  {
   "cell_type": "code",
   "execution_count": 188,
   "metadata": {},
   "outputs": [
    {
     "data": {
      "text/html": [
       "<div>\n",
       "<style scoped>\n",
       "    .dataframe tbody tr th:only-of-type {\n",
       "        vertical-align: middle;\n",
       "    }\n",
       "\n",
       "    .dataframe tbody tr th {\n",
       "        vertical-align: top;\n",
       "    }\n",
       "\n",
       "    .dataframe thead th {\n",
       "        text-align: right;\n",
       "    }\n",
       "</style>\n",
       "<table border=\"1\" class=\"dataframe\">\n",
       "  <thead>\n",
       "    <tr style=\"text-align: right;\">\n",
       "      <th></th>\n",
       "      <th>ID</th>\n",
       "      <th>target</th>\n",
       "    </tr>\n",
       "  </thead>\n",
       "  <tbody>\n",
       "    <tr>\n",
       "      <th>0</th>\n",
       "      <td>ID_01QM0NU</td>\n",
       "      <td>0</td>\n",
       "    </tr>\n",
       "    <tr>\n",
       "      <th>1</th>\n",
       "      <td>ID_024NJLZ</td>\n",
       "      <td>0</td>\n",
       "    </tr>\n",
       "    <tr>\n",
       "      <th>2</th>\n",
       "      <td>ID_02NOVWQ</td>\n",
       "      <td>0</td>\n",
       "    </tr>\n",
       "    <tr>\n",
       "      <th>3</th>\n",
       "      <td>ID_02VSP68</td>\n",
       "      <td>0</td>\n",
       "    </tr>\n",
       "    <tr>\n",
       "      <th>4</th>\n",
       "      <td>ID_02YB37K</td>\n",
       "      <td>0</td>\n",
       "    </tr>\n",
       "  </tbody>\n",
       "</table>\n",
       "</div>"
      ],
      "text/plain": [
       "           ID target\n",
       "0  ID_01QM0NU      0\n",
       "1  ID_024NJLZ      0\n",
       "2  ID_02NOVWQ      0\n",
       "3  ID_02VSP68      0\n",
       "4  ID_02YB37K      0"
      ]
     },
     "execution_count": 188,
     "metadata": {},
     "output_type": "execute_result"
    }
   ],
   "source": [
    "## Renaming the unnamed column\n",
    "Results.rename(columns = {'Unnamed 0':'target'}, inplace = True)\n",
    "Results.head()"
   ]
  },
  {
   "cell_type": "code",
   "execution_count": 189,
   "metadata": {},
   "outputs": [],
   "source": [
    "## Saving our new dataframe to a csv file\n",
    "Results.to_csv('Submission_final1.csv')"
   ]
  }
 ],
 "metadata": {
  "kernelspec": {
   "display_name": "Python 3.10.4 64-bit",
   "language": "python",
   "name": "python3"
  },
  "language_info": {
   "codemirror_mode": {
    "name": "ipython",
    "version": 3
   },
   "file_extension": ".py",
   "mimetype": "text/x-python",
   "name": "python",
   "nbconvert_exporter": "python",
   "pygments_lexer": "ipython3",
   "version": "3.10.4"
  },
  "orig_nbformat": 4,
  "vscode": {
   "interpreter": {
    "hash": "4661efc22c89ee52948326b5acec4d7cc5bba419c0857553be06f07ce994b1f9"
   }
  }
 },
 "nbformat": 4,
 "nbformat_minor": 2
}
